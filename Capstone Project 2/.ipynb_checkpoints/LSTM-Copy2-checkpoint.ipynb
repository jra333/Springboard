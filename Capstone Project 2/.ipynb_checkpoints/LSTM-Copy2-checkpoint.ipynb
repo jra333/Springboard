{
 "cells": [
  {
   "cell_type": "code",
   "execution_count": 1,
   "metadata": {},
   "outputs": [],
   "source": [
    "from __future__ import print_function\n",
    "from hyperopt import Trials, STATUS_OK, tpe\n",
    "from hyperas import optim\n",
    "from hyperas.distributions import choice, uniform\n",
    "from keras.preprocessing import sequence\n",
    "from keras.datasets import imdb\n",
    "from keras.models import Sequential\n",
    "from keras.layers.core import Dense, Dropout, Activation\n",
    "from keras.layers.embeddings import Embedding\n",
    "from keras.layers.recurrent import LSTM\n",
    "from keras.callbacks import EarlyStopping, ModelCheckpoint"
   ]
  },
  {
   "cell_type": "code",
   "execution_count": 2,
   "metadata": {},
   "outputs": [],
   "source": [
    "from pandas import read_csv\n",
    "from sklearn.preprocessing import MinMaxScaler\n",
    "\n",
    "dataset = read_csv('data/test.csv', index_col='Date')\n",
    "X = dataset.drop(labels=['close', 'close_nextday'], axis=1)\n",
    "y = dataset['close_nextday']\n",
    "\n",
    "values_x = X.values\n",
    "values_y = y.values\n",
    "values_y = values_y.reshape(-1, 1)\n",
    "\n",
    "scaler = MinMaxScaler(feature_range=(0, 1))\n",
    "scaled_data_X = scaler.fit_transform(values_x)\n",
    "scaled_data_y = scaler.fit_transform(values_y)\n",
    "\n",
    "X_train = scaled_data_X[:int(X.shape[0] * 0.8)]\n",
    "X_test = scaled_data_X[int(y.shape[0] * 0.8):]\n",
    "y_train = scaled_data_y[:int(X.shape[0] * 0.8)]\n",
    "y_test = scaled_data_y[int(y.shape[0] * 0.8):]"
   ]
  },
  {
   "cell_type": "code",
   "execution_count": 3,
   "metadata": {},
   "outputs": [],
   "source": [
    "def data():\n",
    "    \n",
    "    maxlen = 352\n",
    "    max_features = 6\n",
    "\n",
    "    X_train = np.array(X_train)\n",
    "    X_test = np.array(X_test)\n",
    "    y_train = np.array(y_train)\n",
    "    y_test = np.array(y_test)\n",
    "\n",
    "    return X_train, y_train, X_test, y_test, max_features, maxlen"
   ]
  },
  {
   "cell_type": "code",
   "execution_count": 6,
   "metadata": {},
   "outputs": [],
   "source": [
    "def model(X_train, X_test, y_train, y_test, max_features, maxlen):\n",
    "    model = Sequential()\n",
    "    model.add(Embedding(max_features, 128, input_length=maxlen))\n",
    "    model.add(LSTM(128))\n",
    "    model.add(Dropout({{uniform(0, 1)}}))\n",
    "    model.add(Dense(1))\n",
    "    model.add(Activation('sigmoid'))\n",
    "\n",
    "    model.compile(loss='binary_crossentropy',\n",
    "                  optimizer='adam',\n",
    "                  metrics=['accuracy'])\n",
    "\n",
    "    early_stopping = EarlyStopping(monitor='val_loss', patience=4)\n",
    "    checkpointer = ModelCheckpoint(filepath='keras_weights.hdf5',\n",
    "                                   verbose=1,\n",
    "                                   save_best_only=True)\n",
    "\n",
    "    model.fit(X_train, y_train,\n",
    "              batch_size={{choice([32, 64, 128])}},\n",
    "              epochs=100,\n",
    "              callbacks=[early_stopping, checkpointer])\n",
    "\n",
    "    score, acc = model.evaluate(X_test, y_test, verbose=0)\n",
    "\n",
    "    print('Test accuracy:', acc)\n",
    "    return {'loss': -acc, 'status': STATUS_OK, 'model': model}"
   ]
  },
  {
   "cell_type": "code",
   "execution_count": 7,
   "metadata": {},
   "outputs": [
    {
     "ename": "SyntaxError",
     "evalue": "invalid syntax (<unknown>, line 278)",
     "output_type": "error",
     "traceback": [
      "Traceback \u001b[1;36m(most recent call last)\u001b[0m:\n",
      "  File \u001b[0;32m\"C:\\Users\\aranc\\anaconda3\\lib\\site-packages\\IPython\\core\\interactiveshell.py\"\u001b[0m, line \u001b[0;32m3418\u001b[0m, in \u001b[0;35mrun_code\u001b[0m\n    exec(code_obj, self.user_global_ns, self.user_ns)\n",
      "  File \u001b[0;32m\"<ipython-input-7-fad125057575>\"\u001b[0m, line \u001b[0;32m1\u001b[0m, in \u001b[0;35m<module>\u001b[0m\n    best_run, best_model = optim.minimize(model=model,\n",
      "  File \u001b[0;32m\"C:\\Users\\aranc\\anaconda3\\lib\\site-packages\\hyperas\\optim.py\"\u001b[0m, line \u001b[0;32m59\u001b[0m, in \u001b[0;35mminimize\u001b[0m\n    best_run, space = base_minimizer(model=model,\n",
      "  File \u001b[0;32m\"C:\\Users\\aranc\\anaconda3\\lib\\site-packages\\hyperas\\optim.py\"\u001b[0m, line \u001b[0;32m98\u001b[0m, in \u001b[0;35mbase_minimizer\u001b[0m\n    model_str = get_hyperopt_model_string(model, data, functions, notebook_name, verbose, stack)\n",
      "  File \u001b[0;32m\"C:\\Users\\aranc\\anaconda3\\lib\\site-packages\\hyperas\\optim.py\"\u001b[0m, line \u001b[0;32m189\u001b[0m, in \u001b[0;35mget_hyperopt_model_string\u001b[0m\n    imports = extract_imports(cleaned_source, verbose)\n",
      "  File \u001b[0;32m\"C:\\Users\\aranc\\anaconda3\\lib\\site-packages\\hyperas\\utils.py\"\u001b[0m, line \u001b[0;32m40\u001b[0m, in \u001b[0;35mextract_imports\u001b[0m\n    tree = ast.parse(source)\n",
      "\u001b[1;36m  File \u001b[1;32m\"C:\\Users\\aranc\\anaconda3\\lib\\ast.py\"\u001b[1;36m, line \u001b[1;32m47\u001b[1;36m, in \u001b[1;35mparse\u001b[1;36m\u001b[0m\n\u001b[1;33m    return compile(source, filename, mode, flags,\u001b[0m\n",
      "\u001b[1;36m  File \u001b[1;32m\"<unknown>\"\u001b[1;36m, line \u001b[1;32m278\u001b[0m\n\u001b[1;33m    Evalutation of best performing model:\u001b[0m\n\u001b[1;37m                ^\u001b[0m\n\u001b[1;31mSyntaxError\u001b[0m\u001b[1;31m:\u001b[0m invalid syntax\n"
     ]
    }
   ],
   "source": [
    "best_run, best_model = optim.minimize(model=model,\n",
    "                                      data=data,\n",
    "                                      algo=tpe.suggest,\n",
    "                                      max_evals=10,\n",
    "                                      trials=Trials(),\n",
    "                                      notebook_name='LSTM-Copy2')\n",
    "print(best_run)"
   ]
  },
  {
   "cell_type": "code",
   "execution_count": null,
   "metadata": {},
   "outputs": [],
   "source": [
    "data()"
   ]
  },
  {
   "cell_type": "code",
   "execution_count": null,
   "metadata": {},
   "outputs": [],
   "source": [
    "\n",
    "    #X_train = X_train.reshape(X_train.shape[0], 1, X_train.shape[1])\n",
    "    #X_test = X_test.reshape(X_test.shape[0], 1, X_test.shape[1])\n",
    "    #y_train = y_train.reshape(y_train.shape[0], 1, 1)\n",
    "    #y_test = y_test.reshape(y_test.shape[0], 1, 1)"
   ]
  },
  {
   "cell_type": "code",
   "execution_count": null,
   "metadata": {},
   "outputs": [],
   "source": [
    "    a_train, b_train, c_test, d_test = [], [], [], []\n",
    "    for i in range(60, y_train.shape[0]):\n",
    "        a_train.append(X_train[i - 60:i, 0])\n",
    "        b_train.append(y_train[i, 0])\n",
    "    for x in range(60, y_test.shape[0]):\n",
    "        c_test.append(X_test[x - 60:x, 0])\n",
    "        d_test.append(y_test[x, 0])\n",
    "\n",
    "    a_train, b_train, c_test, d_test = np.array(a_train), np.array(\n",
    "        b_train), np.array(c_test), np.array(d_test)\n",
    "    a_train = np.reshape(a_train, (a_train.shape[0], a_train.shape[1], 6))\n",
    "    b_train = np.reshape(b_train, (b_train.shape[0], b_train.shape[1]))\n",
    "    c_test = np.reshape(c_test, (c_test.shape[0], c_test.shape[1], 6))\n",
    "    d_test = np.reshape(d_test, (d_test.shape[0], d_test.shape[1]))\n",
    "\n",
    "    return a_train, b_train, c_test, d_test"
   ]
  },
  {
   "cell_type": "code",
   "execution_count": null,
   "metadata": {},
   "outputs": [],
   "source": [
    "    #a_train, b_train, c_test, d_test = data()\n",
    "#print(\"Evalutation of best performing model:\")\n",
    "#print(best_model.evaluate(c_test, d_test))\n",
    "#print(\"Best performing model chosen hyper-parameters:\",)"
   ]
  },
  {
   "cell_type": "code",
   "execution_count": null,
   "metadata": {},
   "outputs": [],
   "source": [
    "dataset = read_csv('data/test.csv', index_col='Date')\n",
    "X = dataset.drop(labels=['close', 'close_nextday'], axis=1)\n",
    "y = dataset['close_nextday']\n",
    "values_x = X.values\n",
    "values_y = y.values\n",
    "values_y = values_y.reshape(-1, 1)\n",
    "\n",
    "scaler = MinMaxScaler(feature_range=(0, 1))\n",
    "scaled_data_X = scaler.fit_transform(values_x)\n",
    "scaled_data_y = scaler.fit_transform(values_y)\n",
    "\n",
    "X_train = scaled_data_X[:int(X.shape[0] * 0.8)]\n",
    "X_test = scaled_data_X[int(y.shape[0] * 0.8):]\n",
    "y_train = scaled_data_y[:int(X.shape[0] * 0.8)]\n",
    "y_test = scaled_data_y[int(y.shape[0] * 0.8):]\n",
    "\n",
    "X_train = np.array(X_train)\n",
    "X_test = np.array(X_test)\n",
    "y_train = np.array(y_train)\n",
    "y_test = np.array(y_test)\n",
    "\n",
    "X_train = X_train.reshape(X_train.shape[0], 1, X_train.shape[1])\n",
    "X_test = X_test.reshape(X_test.shape[0], 1, X_test.shape[1])\n",
    "y_train = y_train.reshape(y_train.shape[0], 1, 1)\n",
    "y_test = y_test.reshape(y_test.shape[0], 1, 1)\n",
    "\n",
    "print(X_test.shape)\n",
    "print(y_test.shape)\n",
    "print(X_train.shape)\n",
    "print(y_train.shape)\n"
   ]
  },
  {
   "cell_type": "code",
   "execution_count": null,
   "metadata": {},
   "outputs": [],
   "source": [
    "a_train, b_train, c_test, d_test = [], [], [], []\n",
    "for i in range(1, y_train.shape[0]):\n",
    "    a_train.append(X_train[i - 2:i, 0])\n",
    "    b_train.append(y_train[i, 0])\n",
    "for x in range(1, y_test.shape[0]):\n",
    "    c_test.append(X_test[x - 2:x, 0])\n",
    "    d_test.append(y_test[x, 0])\n",
    "    \n",
    "print(X_test.shape)\n",
    "print(y_test.shape)\n",
    "print(X_train.shape)\n",
    "print(y_train.shape)\n",
    "\n",
    "print('a, b, c, d')\n",
    "print(a_train.shape)\n",
    "print(b_train.shape)\n",
    "print(c_test.shape)\n",
    "print(d_test.shape)"
   ]
  },
  {
   "cell_type": "code",
   "execution_count": null,
   "metadata": {},
   "outputs": [],
   "source": [
    "a_train, b_train, c_test, d_test = np.array(a_train), np.array(b_train), np.array(c_test), np.array(d_test)\n",
    "a_train = np.reshape(a_train, (a_train.shape[0], a_train.shape[1], 6))\n",
    "b_train = np.reshape(b_train, (b_train.shape[0], b_train.shape[1]))\n",
    "c_test = np.reshape(c_test, (c_test.shape[0], c_test.shape[1], 6))\n",
    "d_test = np.reshape(d_test, (d_test.shape[0], d_test.shape[1]))\n",
    "\n",
    "print(X_test.shape)\n",
    "print(y_test.shape)\n",
    "print(X_train.shape)\n",
    "print(y_train.shape)\n",
    "\n",
    "print('a, b, c, d')\n",
    "print(a_train.shape)\n",
    "print(b_train.shape)\n",
    "print(c_test.shape)\n",
    "print(d_test.shape)"
   ]
  },
  {
   "cell_type": "code",
   "execution_count": null,
   "metadata": {},
   "outputs": [],
   "source": [
    "yhat = best_model.predict(c_test)\n",
    "print(yhat.shape)\n"
   ]
  },
  {
   "cell_type": "code",
   "execution_count": null,
   "metadata": {},
   "outputs": [],
   "source": [
    "X_test = X_test.reshape((X_test.shape[0], X_test.shape[1]))\n",
    "print(X_test.shape)\n",
    "print(y_test.shape)\n",
    "print(X_train.shape)\n",
    "print(y_train.shape)\n",
    "\n",
    "print('a, b, c, d')\n",
    "print(a_train.shape)\n",
    "print(b_train.shape)\n",
    "print(c_test.shape)\n",
    "print(d_test.shape)"
   ]
  },
  {
   "cell_type": "code",
   "execution_count": null,
   "metadata": {},
   "outputs": [],
   "source": [
    "inv_yhat = concatenate((yhat, X_test[2:, 1:]), axis=1)\n",
    "inv_yhat = scaler.inverse_transform(inv_yhat)\n",
    "inv_yhat = inv_yhat[:, 0]\n",
    "\n",
    "y_test = y_test.reshape((y_test.shape[0], y_test.shape[1]))\n",
    "inv_y = concatenate((y_test[2:], X_test[2:, 1:]), axis=1)\n",
    "inv_y = scaler.inverse_transform(inv_y)\n",
    "inv_y = inv_y[:, 0]\n",
    "rmse = np.sqrt(mean_squared_error(inv_y, inv_yhat))\n",
    "print('Test RMSE: %.3f' % rmse)\n",
    "\n",
    "_ = plt.figure(figsize=(10, 6))\n",
    "_ = plt.plot(inv_y)\n",
    "_ = plt.plot(inv_yhat)\n",
    "_ = plt.legend([\"actual\", \"pred\"])\n",
    "plt.show()\n",
    "\n",
    "print(min(inv_y), max(inv_y))"
   ]
  },
  {
   "cell_type": "code",
   "execution_count": null,
   "metadata": {},
   "outputs": [],
   "source": [
    "Evalutation of best performing model:\n",
    "3/3 [==============================] - ETA: 0s - loss: 0.6978 - accuracy: 0.0000e+ - 0s 5ms/step - loss: 0.6736 - accuracy: 0.0114\n",
    "[0.6736130118370056, 0.011363636702299118]\n",
    "Best performing model chosen hyper-parameters:\n",
    "{'Activation': 0, 'Dropout': 0.21280043312755825, 'batch_size': 2}"
   ]
  },
  {
   "cell_type": "code",
   "execution_count": null,
   "metadata": {},
   "outputs": [],
   "source": [
    "Evalutation of best performing model:\n",
    "3/3 [==============================] - ETA: 0s - loss: 0.7025 - accuracy: 0.0000e+ - 0s 7ms/step - loss: 0.6327 - accuracy: 0.0114\n",
    "[0.6327084302902222, 0.011363636702299118]\n",
    "Best performing model chosen hyper-parameters:\n",
    "{'Activation': 0, 'Dropout': 0.21280043312755825, 'batch_size': 2}"
   ]
  }
 ],
 "metadata": {
  "kernelspec": {
   "display_name": "Python 3",
   "language": "python",
   "name": "python3"
  },
  "language_info": {
   "codemirror_mode": {
    "name": "ipython",
    "version": 3
   },
   "file_extension": ".py",
   "mimetype": "text/x-python",
   "name": "python",
   "nbconvert_exporter": "python",
   "pygments_lexer": "ipython3",
   "version": "3.8.3"
  },
  "latex_envs": {
   "LaTeX_envs_menu_present": true,
   "autoclose": false,
   "autocomplete": true,
   "bibliofile": "biblio.bib",
   "cite_by": "apalike",
   "current_citInitial": 1,
   "eqLabelWithNumbers": true,
   "eqNumInitial": 1,
   "hotkeys": {
    "equation": "Ctrl-E",
    "itemize": "Ctrl-I"
   },
   "labels_anchors": false,
   "latex_user_defs": false,
   "report_style_numbering": false,
   "user_envs_cfg": false
  },
  "toc": {
   "base_numbering": 1,
   "nav_menu": {},
   "number_sections": false,
   "sideBar": true,
   "skip_h1_title": true,
   "title_cell": "Table of Contents",
   "title_sidebar": "Contents",
   "toc_cell": false,
   "toc_position": {},
   "toc_section_display": true,
   "toc_window_display": false
  },
  "varInspector": {
   "cols": {
    "lenName": 16,
    "lenType": 16,
    "lenVar": 40
   },
   "kernels_config": {
    "python": {
     "delete_cmd_postfix": "",
     "delete_cmd_prefix": "del ",
     "library": "var_list.py",
     "varRefreshCmd": "print(var_dic_list())"
    },
    "r": {
     "delete_cmd_postfix": ") ",
     "delete_cmd_prefix": "rm(",
     "library": "var_list.r",
     "varRefreshCmd": "cat(var_dic_list()) "
    }
   },
   "types_to_exclude": [
    "module",
    "function",
    "builtin_function_or_method",
    "instance",
    "_Feature"
   ],
   "window_display": false
  }
 },
 "nbformat": 4,
 "nbformat_minor": 4
}
