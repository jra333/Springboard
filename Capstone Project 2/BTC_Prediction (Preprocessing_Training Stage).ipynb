{
 "cells": [
  {
   "cell_type": "markdown",
   "metadata": {},
   "source": [
    "# BTC Price Prediction (Preprocessing and Training)\n",
    "\n",
    "### This notebook contains:\n",
    "- Use of \"Standard Scaler\" to ensure values are to scale for modeling (no large fluctuations), preventing leakage\n",
    "- Splitting of dataframe into \"testing\" and \"training\" subsets using \"train_test_split\" \n",
    "- Overall preprocessing to prep for modeling and implementation of various classifying/tree based methods"
   ]
  },
  {
   "cell_type": "code",
   "execution_count": 13,
   "metadata": {},
   "outputs": [],
   "source": [
    "from sklearn.model_selection import train_test_split\n",
    "from sklearn.preprocessing import StandardScaler\n",
    "from sklearn.linear_model import LinearRegression\n",
    "from sklearn import linear_model, preprocessing\n",
    "from sklearn.metrics import accuracy_score\n",
    "from sklearn import metrics\n",
    "import statsmodels.api as sm\n",
    "\n",
    "import pandas as pd\n",
    "import numpy as np\n",
    "\n",
    "import matplotlib.pyplot as plt\n",
    "import seaborn as sns"
   ]
  },
  {
   "cell_type": "code",
   "execution_count": 14,
   "metadata": {},
   "outputs": [],
   "source": [
    "training_data = pd.read_csv('data/train.csv', index_col='Date')"
   ]
  },
  {
   "cell_type": "code",
   "execution_count": 15,
   "metadata": {},
   "outputs": [
    {
     "data": {
      "text/html": [
       "<div>\n",
       "<style scoped>\n",
       "    .dataframe tbody tr th:only-of-type {\n",
       "        vertical-align: middle;\n",
       "    }\n",
       "\n",
       "    .dataframe tbody tr th {\n",
       "        vertical-align: top;\n",
       "    }\n",
       "\n",
       "    .dataframe thead th {\n",
       "        text-align: right;\n",
       "    }\n",
       "</style>\n",
       "<table border=\"1\" class=\"dataframe\">\n",
       "  <thead>\n",
       "    <tr style=\"text-align: right;\">\n",
       "      <th></th>\n",
       "      <th>close</th>\n",
       "      <th>volume</th>\n",
       "      <th>ema_short</th>\n",
       "      <th>ema_long</th>\n",
       "      <th>atr</th>\n",
       "      <th>obv</th>\n",
       "      <th>tweet_sentiment</th>\n",
       "      <th>close_nextday</th>\n",
       "    </tr>\n",
       "    <tr>\n",
       "      <th>Date</th>\n",
       "      <th></th>\n",
       "      <th></th>\n",
       "      <th></th>\n",
       "      <th></th>\n",
       "      <th></th>\n",
       "      <th></th>\n",
       "      <th></th>\n",
       "      <th></th>\n",
       "    </tr>\n",
       "  </thead>\n",
       "  <tbody>\n",
       "    <tr>\n",
       "      <th>2019-09-02</th>\n",
       "      <td>10340.00</td>\n",
       "      <td>44740.25</td>\n",
       "      <td>10164.518939</td>\n",
       "      <td>10452.265343</td>\n",
       "      <td>530.693553</td>\n",
       "      <td>225053.863244</td>\n",
       "      <td>-1.0</td>\n",
       "      <td>10615.28</td>\n",
       "    </tr>\n",
       "    <tr>\n",
       "      <th>2019-09-03</th>\n",
       "      <td>10615.28</td>\n",
       "      <td>47998.38</td>\n",
       "      <td>10207.448563</td>\n",
       "      <td>10458.658074</td>\n",
       "      <td>528.572585</td>\n",
       "      <td>273052.240025</td>\n",
       "      <td>0.5</td>\n",
       "      <td>10567.02</td>\n",
       "    </tr>\n",
       "    <tr>\n",
       "      <th>2019-09-04</th>\n",
       "      <td>10567.02</td>\n",
       "      <td>43943.89</td>\n",
       "      <td>10241.693462</td>\n",
       "      <td>10462.907561</td>\n",
       "      <td>521.468114</td>\n",
       "      <td>229108.350999</td>\n",
       "      <td>0.5</td>\n",
       "      <td>10564.49</td>\n",
       "    </tr>\n",
       "    <tr>\n",
       "      <th>2019-09-05</th>\n",
       "      <td>10564.49</td>\n",
       "      <td>33970.96</td>\n",
       "      <td>10272.435990</td>\n",
       "      <td>10466.891187</td>\n",
       "      <td>516.363249</td>\n",
       "      <td>195137.390360</td>\n",
       "      <td>0.5</td>\n",
       "      <td>10298.73</td>\n",
       "    </tr>\n",
       "    <tr>\n",
       "      <th>2019-09-06</th>\n",
       "      <td>10298.73</td>\n",
       "      <td>58799.64</td>\n",
       "      <td>10274.940181</td>\n",
       "      <td>10460.296630</td>\n",
       "      <td>533.470874</td>\n",
       "      <td>136337.749401</td>\n",
       "      <td>0.0</td>\n",
       "      <td>10455.88</td>\n",
       "    </tr>\n",
       "  </tbody>\n",
       "</table>\n",
       "</div>"
      ],
      "text/plain": [
       "               close    volume     ema_short      ema_long         atr  \\\n",
       "Date                                                                     \n",
       "2019-09-02  10340.00  44740.25  10164.518939  10452.265343  530.693553   \n",
       "2019-09-03  10615.28  47998.38  10207.448563  10458.658074  528.572585   \n",
       "2019-09-04  10567.02  43943.89  10241.693462  10462.907561  521.468114   \n",
       "2019-09-05  10564.49  33970.96  10272.435990  10466.891187  516.363249   \n",
       "2019-09-06  10298.73  58799.64  10274.940181  10460.296630  533.470874   \n",
       "\n",
       "                      obv  tweet_sentiment  close_nextday  \n",
       "Date                                                       \n",
       "2019-09-02  225053.863244             -1.0       10615.28  \n",
       "2019-09-03  273052.240025              0.5       10567.02  \n",
       "2019-09-04  229108.350999              0.5       10564.49  \n",
       "2019-09-05  195137.390360              0.5       10298.73  \n",
       "2019-09-06  136337.749401              0.0       10455.88  "
      ]
     },
     "execution_count": 15,
     "metadata": {},
     "output_type": "execute_result"
    }
   ],
   "source": [
    "training_data.head()"
   ]
  },
  {
   "cell_type": "code",
   "execution_count": 16,
   "metadata": {},
   "outputs": [
    {
     "name": "stdout",
     "output_type": "stream",
     "text": [
      "close              0\n",
      "volume             0\n",
      "ema_short          0\n",
      "ema_long           0\n",
      "atr                0\n",
      "obv                0\n",
      "tweet_sentiment    0\n",
      "close_nextday      0\n",
      "dtype: int64\n"
     ]
    }
   ],
   "source": [
    "# check for nulls\n",
    "\n",
    "print(pd.isnull(training_data).sum())"
   ]
  },
  {
   "cell_type": "code",
   "execution_count": 17,
   "metadata": {},
   "outputs": [
    {
     "name": "stdout",
     "output_type": "stream",
     "text": [
      "<class 'pandas.core.frame.DataFrame'>\n",
      "Index: 441 entries, 2019-09-02 to 2020-11-15\n",
      "Data columns (total 8 columns):\n",
      " #   Column           Non-Null Count  Dtype  \n",
      "---  ------           --------------  -----  \n",
      " 0   close            441 non-null    float64\n",
      " 1   volume           441 non-null    float64\n",
      " 2   ema_short        441 non-null    float64\n",
      " 3   ema_long         441 non-null    float64\n",
      " 4   atr              441 non-null    float64\n",
      " 5   obv              441 non-null    float64\n",
      " 6   tweet_sentiment  441 non-null    float64\n",
      " 7   close_nextday    441 non-null    float64\n",
      "dtypes: float64(8)\n",
      "memory usage: 31.0+ KB\n"
     ]
    }
   ],
   "source": [
    "training_data.info()"
   ]
  },
  {
   "cell_type": "code",
   "execution_count": 18,
   "metadata": {},
   "outputs": [
    {
     "data": {
      "text/html": [
       "<div>\n",
       "<style scoped>\n",
       "    .dataframe tbody tr th:only-of-type {\n",
       "        vertical-align: middle;\n",
       "    }\n",
       "\n",
       "    .dataframe tbody tr th {\n",
       "        vertical-align: top;\n",
       "    }\n",
       "\n",
       "    .dataframe thead th {\n",
       "        text-align: right;\n",
       "    }\n",
       "</style>\n",
       "<table border=\"1\" class=\"dataframe\">\n",
       "  <thead>\n",
       "    <tr style=\"text-align: right;\">\n",
       "      <th></th>\n",
       "      <th>close</th>\n",
       "      <th>volume</th>\n",
       "      <th>ema_short</th>\n",
       "      <th>ema_long</th>\n",
       "      <th>atr</th>\n",
       "      <th>obv</th>\n",
       "      <th>tweet_sentiment</th>\n",
       "      <th>close_nextday</th>\n",
       "    </tr>\n",
       "  </thead>\n",
       "  <tbody>\n",
       "    <tr>\n",
       "      <th>count</th>\n",
       "      <td>441.000000</td>\n",
       "      <td>441.000000</td>\n",
       "      <td>441.000000</td>\n",
       "      <td>441.000000</td>\n",
       "      <td>441.000000</td>\n",
       "      <td>4.410000e+02</td>\n",
       "      <td>441.000000</td>\n",
       "      <td>441.000000</td>\n",
       "    </tr>\n",
       "    <tr>\n",
       "      <th>mean</th>\n",
       "      <td>9367.309637</td>\n",
       "      <td>61479.753197</td>\n",
       "      <td>9265.640563</td>\n",
       "      <td>9203.538147</td>\n",
       "      <td>426.315867</td>\n",
       "      <td>4.718351e+05</td>\n",
       "      <td>0.270721</td>\n",
       "      <td>9381.762177</td>\n",
       "    </tr>\n",
       "    <tr>\n",
       "      <th>std</th>\n",
       "      <td>1965.929255</td>\n",
       "      <td>37995.927925</td>\n",
       "      <td>1642.070648</td>\n",
       "      <td>1349.464524</td>\n",
       "      <td>113.156105</td>\n",
       "      <td>7.550549e+05</td>\n",
       "      <td>0.663297</td>\n",
       "      <td>1996.289483</td>\n",
       "    </tr>\n",
       "    <tr>\n",
       "      <th>min</th>\n",
       "      <td>4800.000000</td>\n",
       "      <td>16792.390000</td>\n",
       "      <td>6513.642937</td>\n",
       "      <td>7124.245966</td>\n",
       "      <td>195.624666</td>\n",
       "      <td>-6.761706e+05</td>\n",
       "      <td>-1.000000</td>\n",
       "      <td>4800.000000</td>\n",
       "    </tr>\n",
       "    <tr>\n",
       "      <th>25%</th>\n",
       "      <td>8063.730000</td>\n",
       "      <td>38440.040000</td>\n",
       "      <td>8163.952945</td>\n",
       "      <td>8126.772823</td>\n",
       "      <td>346.867468</td>\n",
       "      <td>-2.000381e+05</td>\n",
       "      <td>0.000000</td>\n",
       "      <td>8063.730000</td>\n",
       "    </tr>\n",
       "    <tr>\n",
       "      <th>50%</th>\n",
       "      <td>9242.620000</td>\n",
       "      <td>52202.070000</td>\n",
       "      <td>9206.972061</td>\n",
       "      <td>9072.751708</td>\n",
       "      <td>414.048363</td>\n",
       "      <td>3.548013e+05</td>\n",
       "      <td>0.000000</td>\n",
       "      <td>9242.620000</td>\n",
       "    </tr>\n",
       "    <tr>\n",
       "      <th>75%</th>\n",
       "      <td>10344.360000</td>\n",
       "      <td>71155.210000</td>\n",
       "      <td>10292.172545</td>\n",
       "      <td>10399.440662</td>\n",
       "      <td>483.341991</td>\n",
       "      <td>1.119035e+06</td>\n",
       "      <td>1.000000</td>\n",
       "      <td>10373.440000</td>\n",
       "    </tr>\n",
       "    <tr>\n",
       "      <th>max</th>\n",
       "      <td>16320.700000</td>\n",
       "      <td>402201.670000</td>\n",
       "      <td>14865.632684</td>\n",
       "      <td>13404.734432</td>\n",
       "      <td>789.483745</td>\n",
       "      <td>2.205415e+06</td>\n",
       "      <td>1.000000</td>\n",
       "      <td>16713.570000</td>\n",
       "    </tr>\n",
       "  </tbody>\n",
       "</table>\n",
       "</div>"
      ],
      "text/plain": [
       "              close         volume     ema_short      ema_long         atr  \\\n",
       "count    441.000000     441.000000    441.000000    441.000000  441.000000   \n",
       "mean    9367.309637   61479.753197   9265.640563   9203.538147  426.315867   \n",
       "std     1965.929255   37995.927925   1642.070648   1349.464524  113.156105   \n",
       "min     4800.000000   16792.390000   6513.642937   7124.245966  195.624666   \n",
       "25%     8063.730000   38440.040000   8163.952945   8126.772823  346.867468   \n",
       "50%     9242.620000   52202.070000   9206.972061   9072.751708  414.048363   \n",
       "75%    10344.360000   71155.210000  10292.172545  10399.440662  483.341991   \n",
       "max    16320.700000  402201.670000  14865.632684  13404.734432  789.483745   \n",
       "\n",
       "                obv  tweet_sentiment  close_nextday  \n",
       "count  4.410000e+02       441.000000     441.000000  \n",
       "mean   4.718351e+05         0.270721    9381.762177  \n",
       "std    7.550549e+05         0.663297    1996.289483  \n",
       "min   -6.761706e+05        -1.000000    4800.000000  \n",
       "25%   -2.000381e+05         0.000000    8063.730000  \n",
       "50%    3.548013e+05         0.000000    9242.620000  \n",
       "75%    1.119035e+06         1.000000   10373.440000  \n",
       "max    2.205415e+06         1.000000   16713.570000  "
      ]
     },
     "execution_count": 18,
     "metadata": {},
     "output_type": "execute_result"
    }
   ],
   "source": [
    "training_data.describe()"
   ]
  },
  {
   "cell_type": "code",
   "execution_count": 19,
   "metadata": {},
   "outputs": [
    {
     "name": "stdout",
     "output_type": "stream",
     "text": [
      "(441, 8)\n"
     ]
    }
   ],
   "source": [
    "print(training_data.shape)"
   ]
  },
  {
   "cell_type": "markdown",
   "metadata": {},
   "source": [
    "### Scaling the dataframe"
   ]
  },
  {
   "cell_type": "code",
   "execution_count": 20,
   "metadata": {},
   "outputs": [],
   "source": [
    "ss = StandardScaler()\n",
    "df_scaled = pd.DataFrame(ss.fit_transform(training_data),\n",
    "                         index=training_data.index,\n",
    "                         columns=training_data.columns)"
   ]
  },
  {
   "cell_type": "code",
   "execution_count": 21,
   "metadata": {},
   "outputs": [
    {
     "data": {
      "text/html": [
       "<div>\n",
       "<style scoped>\n",
       "    .dataframe tbody tr th:only-of-type {\n",
       "        vertical-align: middle;\n",
       "    }\n",
       "\n",
       "    .dataframe tbody tr th {\n",
       "        vertical-align: top;\n",
       "    }\n",
       "\n",
       "    .dataframe thead th {\n",
       "        text-align: right;\n",
       "    }\n",
       "</style>\n",
       "<table border=\"1\" class=\"dataframe\">\n",
       "  <thead>\n",
       "    <tr style=\"text-align: right;\">\n",
       "      <th></th>\n",
       "      <th>close</th>\n",
       "      <th>volume</th>\n",
       "      <th>ema_short</th>\n",
       "      <th>ema_long</th>\n",
       "      <th>atr</th>\n",
       "      <th>obv</th>\n",
       "      <th>tweet_sentiment</th>\n",
       "      <th>close_nextday</th>\n",
       "    </tr>\n",
       "    <tr>\n",
       "      <th>Date</th>\n",
       "      <th></th>\n",
       "      <th></th>\n",
       "      <th></th>\n",
       "      <th></th>\n",
       "      <th></th>\n",
       "      <th></th>\n",
       "      <th></th>\n",
       "      <th></th>\n",
       "    </tr>\n",
       "  </thead>\n",
       "  <tbody>\n",
       "    <tr>\n",
       "      <th>2019-09-02</th>\n",
       "      <td>0.495336</td>\n",
       "      <td>-0.441061</td>\n",
       "      <td>0.548027</td>\n",
       "      <td>0.926401</td>\n",
       "      <td>0.923470</td>\n",
       "      <td>-0.327210</td>\n",
       "      <td>-1.917941</td>\n",
       "      <td>0.618607</td>\n",
       "    </tr>\n",
       "    <tr>\n",
       "      <th>2019-09-03</th>\n",
       "      <td>0.635520</td>\n",
       "      <td>-0.355214</td>\n",
       "      <td>0.574200</td>\n",
       "      <td>0.931144</td>\n",
       "      <td>0.904705</td>\n",
       "      <td>-0.263568</td>\n",
       "      <td>0.346058</td>\n",
       "      <td>0.594405</td>\n",
       "    </tr>\n",
       "    <tr>\n",
       "      <th>2019-09-04</th>\n",
       "      <td>0.610944</td>\n",
       "      <td>-0.462044</td>\n",
       "      <td>0.595079</td>\n",
       "      <td>0.934296</td>\n",
       "      <td>0.841849</td>\n",
       "      <td>-0.321834</td>\n",
       "      <td>0.346058</td>\n",
       "      <td>0.593136</td>\n",
       "    </tr>\n",
       "    <tr>\n",
       "      <th>2019-09-05</th>\n",
       "      <td>0.609656</td>\n",
       "      <td>-0.724815</td>\n",
       "      <td>0.613822</td>\n",
       "      <td>0.937252</td>\n",
       "      <td>0.796684</td>\n",
       "      <td>-0.366877</td>\n",
       "      <td>0.346058</td>\n",
       "      <td>0.459858</td>\n",
       "    </tr>\n",
       "    <tr>\n",
       "      <th>2019-09-06</th>\n",
       "      <td>0.474319</td>\n",
       "      <td>-0.070617</td>\n",
       "      <td>0.615349</td>\n",
       "      <td>0.932359</td>\n",
       "      <td>0.948042</td>\n",
       "      <td>-0.444840</td>\n",
       "      <td>-0.408608</td>\n",
       "      <td>0.538668</td>\n",
       "    </tr>\n",
       "  </tbody>\n",
       "</table>\n",
       "</div>"
      ],
      "text/plain": [
       "               close    volume  ema_short  ema_long       atr       obv  \\\n",
       "Date                                                                      \n",
       "2019-09-02  0.495336 -0.441061   0.548027  0.926401  0.923470 -0.327210   \n",
       "2019-09-03  0.635520 -0.355214   0.574200  0.931144  0.904705 -0.263568   \n",
       "2019-09-04  0.610944 -0.462044   0.595079  0.934296  0.841849 -0.321834   \n",
       "2019-09-05  0.609656 -0.724815   0.613822  0.937252  0.796684 -0.366877   \n",
       "2019-09-06  0.474319 -0.070617   0.615349  0.932359  0.948042 -0.444840   \n",
       "\n",
       "            tweet_sentiment  close_nextday  \n",
       "Date                                        \n",
       "2019-09-02        -1.917941       0.618607  \n",
       "2019-09-03         0.346058       0.594405  \n",
       "2019-09-04         0.346058       0.593136  \n",
       "2019-09-05         0.346058       0.459858  \n",
       "2019-09-06        -0.408608       0.538668  "
      ]
     },
     "execution_count": 21,
     "metadata": {},
     "output_type": "execute_result"
    }
   ],
   "source": [
    "df_scaled.head()"
   ]
  },
  {
   "cell_type": "markdown",
   "metadata": {},
   "source": [
    "### Dataframe split (training and testing)"
   ]
  },
  {
   "cell_type": "code",
   "execution_count": 22,
   "metadata": {},
   "outputs": [
    {
     "name": "stdout",
     "output_type": "stream",
     "text": [
      "               close    volume  ema_short  ema_long       atr       obv  \\\n",
      "Date                                                                      \n",
      "2019-09-02  0.495336 -0.441061   0.548027  0.926401  0.923470 -0.327210   \n",
      "2019-09-03  0.635520 -0.355214   0.574200  0.931144  0.904705 -0.263568   \n",
      "2019-09-04  0.610944 -0.462044   0.595079  0.934296  0.841849 -0.321834   \n",
      "2019-09-05  0.609656 -0.724815   0.613822  0.937252  0.796684 -0.366877   \n",
      "2019-09-06  0.474319 -0.070617   0.615349  0.932359  0.948042 -0.444840   \n",
      "\n",
      "            tweet_sentiment  \n",
      "Date                         \n",
      "2019-09-02        -1.917941  \n",
      "2019-09-03         0.346058  \n",
      "2019-09-04         0.346058  \n",
      "2019-09-05         0.346058  \n",
      "2019-09-06        -0.408608  \n"
     ]
    }
   ],
   "source": [
    "X = df_scaled.drop(labels=['close_nextday'], axis=1)\n",
    "y = df_scaled['close_nextday']\n",
    "#X = sm.add_constant(X)\n",
    "\n",
    "print(X.head(5))"
   ]
  },
  {
   "cell_type": "code",
   "execution_count": 23,
   "metadata": {},
   "outputs": [],
   "source": [
    "X_train, X_test, y_train, y_test = train_test_split(X,\n",
    "                                                    y,\n",
    "                                                    test_size=0.25,\n",
    "                                                    random_state=42)"
   ]
  },
  {
   "cell_type": "markdown",
   "metadata": {},
   "source": [
    "#### Multiple Linear Regression Using OLS (Ordinary Least Squares)"
   ]
  },
  {
   "cell_type": "code",
   "execution_count": 24,
   "metadata": {},
   "outputs": [
    {
     "data": {
      "text/html": [
       "<table class=\"simpletable\">\n",
       "<caption>OLS Regression Results</caption>\n",
       "<tr>\n",
       "  <th>Dep. Variable:</th>      <td>close_nextday</td>  <th>  R-squared (uncentered):</th>      <td>   0.971</td> \n",
       "</tr>\n",
       "<tr>\n",
       "  <th>Model:</th>                   <td>OLS</td>       <th>  Adj. R-squared (uncentered):</th> <td>   0.970</td> \n",
       "</tr>\n",
       "<tr>\n",
       "  <th>Method:</th>             <td>Least Squares</td>  <th>  F-statistic:       </th>          <td>   1523.</td> \n",
       "</tr>\n",
       "<tr>\n",
       "  <th>Date:</th>             <td>Thu, 24 Dec 2020</td> <th>  Prob (F-statistic):</th>          <td>4.38e-243</td>\n",
       "</tr>\n",
       "<tr>\n",
       "  <th>Time:</th>                 <td>01:51:38</td>     <th>  Log-Likelihood:    </th>          <td>  117.88</td> \n",
       "</tr>\n",
       "<tr>\n",
       "  <th>No. Observations:</th>      <td>   330</td>      <th>  AIC:               </th>          <td>  -221.8</td> \n",
       "</tr>\n",
       "<tr>\n",
       "  <th>Df Residuals:</th>          <td>   323</td>      <th>  BIC:               </th>          <td>  -195.2</td> \n",
       "</tr>\n",
       "<tr>\n",
       "  <th>Df Model:</th>              <td>     7</td>      <th>                     </th>              <td> </td>    \n",
       "</tr>\n",
       "<tr>\n",
       "  <th>Covariance Type:</th>      <td>nonrobust</td>    <th>                     </th>              <td> </td>    \n",
       "</tr>\n",
       "</table>\n",
       "<table class=\"simpletable\">\n",
       "<tr>\n",
       "         <td></td>            <th>coef</th>     <th>std err</th>      <th>t</th>      <th>P>|t|</th>  <th>[0.025</th>    <th>0.975]</th>  \n",
       "</tr>\n",
       "<tr>\n",
       "  <th>close</th>           <td>    0.9993</td> <td>    0.038</td> <td>   26.083</td> <td> 0.000</td> <td>    0.924</td> <td>    1.075</td>\n",
       "</tr>\n",
       "<tr>\n",
       "  <th>volume</th>          <td>   -0.0087</td> <td>    0.012</td> <td>   -0.740</td> <td> 0.460</td> <td>   -0.032</td> <td>    0.014</td>\n",
       "</tr>\n",
       "<tr>\n",
       "  <th>ema_short</th>       <td>   -0.0537</td> <td>    0.067</td> <td>   -0.805</td> <td> 0.422</td> <td>   -0.185</td> <td>    0.078</td>\n",
       "</tr>\n",
       "<tr>\n",
       "  <th>ema_long</th>        <td>    0.0172</td> <td>    0.043</td> <td>    0.401</td> <td> 0.689</td> <td>   -0.067</td> <td>    0.102</td>\n",
       "</tr>\n",
       "<tr>\n",
       "  <th>atr</th>             <td>    0.0041</td> <td>    0.011</td> <td>    0.361</td> <td> 0.718</td> <td>   -0.018</td> <td>    0.027</td>\n",
       "</tr>\n",
       "<tr>\n",
       "  <th>obv</th>             <td>    0.0321</td> <td>    0.016</td> <td>    2.041</td> <td> 0.042</td> <td>    0.001</td> <td>    0.063</td>\n",
       "</tr>\n",
       "<tr>\n",
       "  <th>tweet_sentiment</th> <td>    0.0054</td> <td>    0.010</td> <td>    0.553</td> <td> 0.580</td> <td>   -0.014</td> <td>    0.024</td>\n",
       "</tr>\n",
       "</table>\n",
       "<table class=\"simpletable\">\n",
       "<tr>\n",
       "  <th>Omnibus:</th>       <td>210.035</td> <th>  Durbin-Watson:     </th> <td>   2.060</td>\n",
       "</tr>\n",
       "<tr>\n",
       "  <th>Prob(Omnibus):</th> <td> 0.000</td>  <th>  Jarque-Bera (JB):  </th> <td>6861.811</td>\n",
       "</tr>\n",
       "<tr>\n",
       "  <th>Skew:</th>          <td>-2.060</td>  <th>  Prob(JB):          </th> <td>    0.00</td>\n",
       "</tr>\n",
       "<tr>\n",
       "  <th>Kurtosis:</th>      <td>24.956</td>  <th>  Cond. No.          </th> <td>    16.4</td>\n",
       "</tr>\n",
       "</table><br/><br/>Notes:<br/>[1] R² is computed without centering (uncentered) since the model does not contain a constant.<br/>[2] Standard Errors assume that the covariance matrix of the errors is correctly specified."
      ],
      "text/plain": [
       "<class 'statsmodels.iolib.summary.Summary'>\n",
       "\"\"\"\n",
       "                                 OLS Regression Results                                \n",
       "=======================================================================================\n",
       "Dep. Variable:          close_nextday   R-squared (uncentered):                   0.971\n",
       "Model:                            OLS   Adj. R-squared (uncentered):              0.970\n",
       "Method:                 Least Squares   F-statistic:                              1523.\n",
       "Date:                Thu, 24 Dec 2020   Prob (F-statistic):                   4.38e-243\n",
       "Time:                        01:51:38   Log-Likelihood:                          117.88\n",
       "No. Observations:                 330   AIC:                                     -221.8\n",
       "Df Residuals:                     323   BIC:                                     -195.2\n",
       "Df Model:                           7                                                  \n",
       "Covariance Type:            nonrobust                                                  \n",
       "===================================================================================\n",
       "                      coef    std err          t      P>|t|      [0.025      0.975]\n",
       "-----------------------------------------------------------------------------------\n",
       "close               0.9993      0.038     26.083      0.000       0.924       1.075\n",
       "volume             -0.0087      0.012     -0.740      0.460      -0.032       0.014\n",
       "ema_short          -0.0537      0.067     -0.805      0.422      -0.185       0.078\n",
       "ema_long            0.0172      0.043      0.401      0.689      -0.067       0.102\n",
       "atr                 0.0041      0.011      0.361      0.718      -0.018       0.027\n",
       "obv                 0.0321      0.016      2.041      0.042       0.001       0.063\n",
       "tweet_sentiment     0.0054      0.010      0.553      0.580      -0.014       0.024\n",
       "==============================================================================\n",
       "Omnibus:                      210.035   Durbin-Watson:                   2.060\n",
       "Prob(Omnibus):                  0.000   Jarque-Bera (JB):             6861.811\n",
       "Skew:                          -2.060   Prob(JB):                         0.00\n",
       "Kurtosis:                      24.956   Cond. No.                         16.4\n",
       "==============================================================================\n",
       "\n",
       "Notes:\n",
       "[1] R² is computed without centering (uncentered) since the model does not contain a constant.\n",
       "[2] Standard Errors assume that the covariance matrix of the errors is correctly specified.\n",
       "\"\"\""
      ]
     },
     "execution_count": 24,
     "metadata": {},
     "output_type": "execute_result"
    }
   ],
   "source": [
    "lr = sm.OLS(y_train, X_train)\n",
    "\n",
    "results = lr.fit()\n",
    "results.summary()"
   ]
  },
  {
   "cell_type": "markdown",
   "metadata": {},
   "source": [
    "From the summary results, we can see that the Adj. R-Squared was 0.970. This shows us that the model explains it variability fairly well. However, this metric solely does not explain the overall performance of the model but it does show us that our predictors are on the right track"
   ]
  },
  {
   "cell_type": "code",
   "execution_count": 25,
   "metadata": {},
   "outputs": [],
   "source": [
    "y_pred = results.predict(X_test)"
   ]
  },
  {
   "cell_type": "code",
   "execution_count": 26,
   "metadata": {},
   "outputs": [
    {
     "data": {
      "image/png": "[encoded data removed]",
      "text/plain": [
       "<Figure size 432x288 with 1 Axes>"
      ]
     },
     "metadata": {
      "needs_background": "light"
     },
     "output_type": "display_data"
    }
   ],
   "source": [
    "_ = plt.scatter(y_test, y_pred)\n",
    "_ = plt.plot([x for x in range(-3, 6)], [y for y in range(-3, 6)], color='red')\n",
    "\n",
    "_ = plt.title('Model Prediction vs Actual')\n",
    "_ = plt.xlabel('actual values')\n",
    "_ = plt.ylabel('predicted values')\n",
    "plt.show()"
   ]
  },
  {
   "cell_type": "code",
   "execution_count": 27,
   "metadata": {},
   "outputs": [],
   "source": [
    "def mean_absolute_percentage_error(y_test, y_pred):\n",
    "    y_test, y_pred = np.array(y_test), np.array(y_pred)\n",
    "    return np.mean(np.abs((y_test - y_pred) / y_test)) * 100"
   ]
  },
  {
   "cell_type": "code",
   "execution_count": 28,
   "metadata": {},
   "outputs": [
    {
     "name": "stdout",
     "output_type": "stream",
     "text": [
      "Results of sklearn.metrics:\n",
      "\n",
      "MAPE: 53.17211250975048\n",
      "MAE: 0.09621793306314985\n",
      "MSE: 0.01911979366779639\n",
      "RMSE: 0.13827434204434455\n"
     ]
    }
   ],
   "source": [
    "mape = mean_absolute_percentage_error(y_test, y_pred)\n",
    "mae = metrics.mean_absolute_error(y_test, y_pred)\n",
    "mse = metrics.mean_squared_error(y_test, y_pred)\n",
    "rmse = np.sqrt(mse)\n",
    "\n",
    "print(\"Results of sklearn.metrics:\\n\")\n",
    "print(\"MAPE:\", mape)\n",
    "print(\"MAE:\", mae)\n",
    "print(\"MSE:\", mse)\n",
    "print(\"RMSE:\", rmse)"
   ]
  },
  {
   "cell_type": "code",
   "execution_count": 29,
   "metadata": {},
   "outputs": [
    {
     "data": {
      "image/png": "[encoded data removed]",
      "text/plain": [
       "<Figure size 720x432 with 1 Axes>"
      ]
     },
     "metadata": {
      "needs_background": "light"
     },
     "output_type": "display_data"
    }
   ],
   "source": [
    "_ = plt.figure(figsize=(10, 6))\n",
    "_ = plt.plot(y_test)\n",
    "_ = plt.plot(y_pred)\n",
    "_ = plt.legend([\"actual\", \"pred\"])\n",
    "plt.show()"
   ]
  },
  {
   "cell_type": "markdown",
   "metadata": {},
   "source": [
    "#### Avoiding redundancy in linear regression models\n",
    "\n",
    "Since the feature \"close\" is already found to be correlated with our prediction of \"close_nextday\" (from heatmap EDA stage), we can remove \"close\" to see how disposable it really is in relation to the model."
   ]
  },
  {
   "cell_type": "code",
   "execution_count": 30,
   "metadata": {},
   "outputs": [
    {
     "name": "stdout",
     "output_type": "stream",
     "text": [
      "Highest correlated variable with target:\n",
      " \n",
      " close  close_nextday    0.986686\n",
      "dtype: float64\n",
      "\n"
     ]
    }
   ],
   "source": [
    "# Pull in correlation data gathered from EDA correlation heatmap\n",
    "\n",
    "f = open('data/highest_corr_target.txt', 'r')\n",
    "file_contents = f.read()\n",
    "print('Highest correlated variable with target:\\n', \"\\n\", file_contents)"
   ]
  },
  {
   "cell_type": "code",
   "execution_count": 31,
   "metadata": {},
   "outputs": [
    {
     "name": "stdout",
     "output_type": "stream",
     "text": [
      "              volume  ema_short  ema_long       atr       obv  tweet_sentiment\n",
      "Date                                                                          \n",
      "2019-09-02 -0.441061   0.548027  0.926401  0.923470 -0.327210        -1.917941\n",
      "2019-09-03 -0.355214   0.574200  0.931144  0.904705 -0.263568         0.346058\n",
      "2019-09-04 -0.462044   0.595079  0.934296  0.841849 -0.321834         0.346058\n",
      "2019-09-05 -0.724815   0.613822  0.937252  0.796684 -0.366877         0.346058\n",
      "2019-09-06 -0.070617   0.615349  0.932359  0.948042 -0.444840        -0.408608\n"
     ]
    }
   ],
   "source": [
    "X2 = df_scaled.drop(labels=['close_nextday', 'close'], axis=1)\n",
    "y2 = df_scaled['close_nextday']\n",
    "#X2 = sm.add_constant(X2)\n",
    "print(X2.head(5))"
   ]
  },
  {
   "cell_type": "code",
   "execution_count": 32,
   "metadata": {},
   "outputs": [],
   "source": [
    "X2_train, X2_test, y2_train, y2_test = train_test_split(X2,\n",
    "                                                        y2,\n",
    "                                                        test_size=0.25,\n",
    "                                                        random_state=42)"
   ]
  },
  {
   "cell_type": "code",
   "execution_count": 33,
   "metadata": {},
   "outputs": [
    {
     "data": {
      "text/html": [
       "<table class=\"simpletable\">\n",
       "<caption>OLS Regression Results</caption>\n",
       "<tr>\n",
       "  <th>Dep. Variable:</th>      <td>close_nextday</td>  <th>  R-squared (uncentered):</th>      <td>   0.909</td> \n",
       "</tr>\n",
       "<tr>\n",
       "  <th>Model:</th>                   <td>OLS</td>       <th>  Adj. R-squared (uncentered):</th> <td>   0.907</td> \n",
       "</tr>\n",
       "<tr>\n",
       "  <th>Method:</th>             <td>Least Squares</td>  <th>  F-statistic:       </th>          <td>   537.1</td> \n",
       "</tr>\n",
       "<tr>\n",
       "  <th>Date:</th>             <td>Thu, 24 Dec 2020</td> <th>  Prob (F-statistic):</th>          <td>4.84e-165</td>\n",
       "</tr>\n",
       "<tr>\n",
       "  <th>Time:</th>                 <td>01:51:52</td>     <th>  Log-Likelihood:    </th>          <td> -69.133</td> \n",
       "</tr>\n",
       "<tr>\n",
       "  <th>No. Observations:</th>      <td>   330</td>      <th>  AIC:               </th>          <td>   150.3</td> \n",
       "</tr>\n",
       "<tr>\n",
       "  <th>Df Residuals:</th>          <td>   324</td>      <th>  BIC:               </th>          <td>   173.1</td> \n",
       "</tr>\n",
       "<tr>\n",
       "  <th>Df Model:</th>              <td>     6</td>      <th>                     </th>              <td> </td>    \n",
       "</tr>\n",
       "<tr>\n",
       "  <th>Covariance Type:</th>      <td>nonrobust</td>    <th>                     </th>              <td> </td>    \n",
       "</tr>\n",
       "</table>\n",
       "<table class=\"simpletable\">\n",
       "<tr>\n",
       "         <td></td>            <th>coef</th>     <th>std err</th>      <th>t</th>      <th>P>|t|</th>  <th>[0.025</th>    <th>0.975]</th>  \n",
       "</tr>\n",
       "<tr>\n",
       "  <th>volume</th>          <td>   -0.0359</td> <td>    0.021</td> <td>   -1.750</td> <td> 0.081</td> <td>   -0.076</td> <td>    0.004</td>\n",
       "</tr>\n",
       "<tr>\n",
       "  <th>ema_short</th>       <td>    1.3589</td> <td>    0.069</td> <td>   19.799</td> <td> 0.000</td> <td>    1.224</td> <td>    1.494</td>\n",
       "</tr>\n",
       "<tr>\n",
       "  <th>ema_long</th>        <td>   -0.5798</td> <td>    0.064</td> <td>   -9.065</td> <td> 0.000</td> <td>   -0.706</td> <td>   -0.454</td>\n",
       "</tr>\n",
       "<tr>\n",
       "  <th>atr</th>             <td>   -0.0037</td> <td>    0.020</td> <td>   -0.186</td> <td> 0.853</td> <td>   -0.043</td> <td>    0.036</td>\n",
       "</tr>\n",
       "<tr>\n",
       "  <th>obv</th>             <td>    0.1643</td> <td>    0.026</td> <td>    6.274</td> <td> 0.000</td> <td>    0.113</td> <td>    0.216</td>\n",
       "</tr>\n",
       "<tr>\n",
       "  <th>tweet_sentiment</th> <td>   -0.0192</td> <td>    0.017</td> <td>   -1.133</td> <td> 0.258</td> <td>   -0.053</td> <td>    0.014</td>\n",
       "</tr>\n",
       "</table>\n",
       "<table class=\"simpletable\">\n",
       "<tr>\n",
       "  <th>Omnibus:</th>       <td>50.941</td> <th>  Durbin-Watson:     </th> <td>   1.886</td>\n",
       "</tr>\n",
       "<tr>\n",
       "  <th>Prob(Omnibus):</th> <td> 0.000</td> <th>  Jarque-Bera (JB):  </th> <td> 208.591</td>\n",
       "</tr>\n",
       "<tr>\n",
       "  <th>Skew:</th>          <td>-0.570</td> <th>  Prob(JB):          </th> <td>5.07e-46</td>\n",
       "</tr>\n",
       "<tr>\n",
       "  <th>Kurtosis:</th>      <td> 6.724</td> <th>  Cond. No.          </th> <td>    8.96</td>\n",
       "</tr>\n",
       "</table><br/><br/>Notes:<br/>[1] R² is computed without centering (uncentered) since the model does not contain a constant.<br/>[2] Standard Errors assume that the covariance matrix of the errors is correctly specified."
      ],
      "text/plain": [
       "<class 'statsmodels.iolib.summary.Summary'>\n",
       "\"\"\"\n",
       "                                 OLS Regression Results                                \n",
       "=======================================================================================\n",
       "Dep. Variable:          close_nextday   R-squared (uncentered):                   0.909\n",
       "Model:                            OLS   Adj. R-squared (uncentered):              0.907\n",
       "Method:                 Least Squares   F-statistic:                              537.1\n",
       "Date:                Thu, 24 Dec 2020   Prob (F-statistic):                   4.84e-165\n",
       "Time:                        01:51:52   Log-Likelihood:                         -69.133\n",
       "No. Observations:                 330   AIC:                                      150.3\n",
       "Df Residuals:                     324   BIC:                                      173.1\n",
       "Df Model:                           6                                                  \n",
       "Covariance Type:            nonrobust                                                  \n",
       "===================================================================================\n",
       "                      coef    std err          t      P>|t|      [0.025      0.975]\n",
       "-----------------------------------------------------------------------------------\n",
       "volume             -0.0359      0.021     -1.750      0.081      -0.076       0.004\n",
       "ema_short           1.3589      0.069     19.799      0.000       1.224       1.494\n",
       "ema_long           -0.5798      0.064     -9.065      0.000      -0.706      -0.454\n",
       "atr                -0.0037      0.020     -0.186      0.853      -0.043       0.036\n",
       "obv                 0.1643      0.026      6.274      0.000       0.113       0.216\n",
       "tweet_sentiment    -0.0192      0.017     -1.133      0.258      -0.053       0.014\n",
       "==============================================================================\n",
       "Omnibus:                       50.941   Durbin-Watson:                   1.886\n",
       "Prob(Omnibus):                  0.000   Jarque-Bera (JB):              208.591\n",
       "Skew:                          -0.570   Prob(JB):                     5.07e-46\n",
       "Kurtosis:                       6.724   Cond. No.                         8.96\n",
       "==============================================================================\n",
       "\n",
       "Notes:\n",
       "[1] R² is computed without centering (uncentered) since the model does not contain a constant.\n",
       "[2] Standard Errors assume that the covariance matrix of the errors is correctly specified.\n",
       "\"\"\""
      ]
     },
     "execution_count": 33,
     "metadata": {},
     "output_type": "execute_result"
    }
   ],
   "source": [
    "lr2 = sm.OLS(y2_train, X2_train)\n",
    "\n",
    "results2 = lr2.fit()\n",
    "results2.summary()"
   ]
  },
  {
   "cell_type": "markdown",
   "metadata": {},
   "source": [
    "This time the results of our summary statistics give us an Adj. R-squared measure of 0.907. This was an expected drop from our last model as we removed one of our predictors (\"close\"), which is a highly correlated variable to the target. "
   ]
  },
  {
   "cell_type": "code",
   "execution_count": 34,
   "metadata": {},
   "outputs": [],
   "source": [
    "y2_pred = results2.predict(X2_test)"
   ]
  },
  {
   "cell_type": "code",
   "execution_count": 35,
   "metadata": {},
   "outputs": [
    {
     "data": {
      "image/png": "[encoded data removed]",
      "text/plain": [
       "<Figure size 432x288 with 1 Axes>"
      ]
     },
     "metadata": {
      "needs_background": "light"
     },
     "output_type": "display_data"
    }
   ],
   "source": [
    "_ = plt.scatter(y2_test, y2_pred)\n",
    "_ = plt.plot([x for x in range(-3, 6)], [y for y in range(-3, 6)], color='red')\n",
    "\n",
    "_ = plt.title('Model 2 Prediction vs Actual')\n",
    "_ = plt.xlabel('actual values')\n",
    "_ = plt.ylabel('predicted values')\n",
    "plt.show()"
   ]
  },
  {
   "cell_type": "code",
   "execution_count": 36,
   "metadata": {},
   "outputs": [],
   "source": [
    "def mean_absolute_percentage_error(y2_test, y2_pred):\n",
    "    y2_test, y2_pred = np.array(y2_test), np.array(y2_pred)\n",
    "    return np.mean(np.abs((y2_test - y2_pred) / y2_test)) * 100"
   ]
  },
  {
   "cell_type": "code",
   "execution_count": 37,
   "metadata": {},
   "outputs": [
    {
     "name": "stdout",
     "output_type": "stream",
     "text": [
      "Results of sklearn.metrics:\n",
      "\n",
      "MAPE: 193.74466055184402\n",
      "MAE: 0.2263837125049031\n",
      "MSE: 0.0829739575753188\n",
      "RMSE: 0.13827434204434455\n"
     ]
    }
   ],
   "source": [
    "mape2 = mean_absolute_percentage_error(y2_test, y2_pred)\n",
    "mae2 = metrics.mean_absolute_error(y2_test, y2_pred)\n",
    "mse2 = metrics.mean_squared_error(y2_test, y2_pred)\n",
    "rmse2 = np.sqrt(mse)\n",
    "\n",
    "print(\"Results of sklearn.metrics:\\n\")\n",
    "print(\"MAPE:\", mape2)\n",
    "print(\"MAE:\", mae2)\n",
    "print(\"MSE:\", mse2)\n",
    "print(\"RMSE:\", rmse2)"
   ]
  },
  {
   "cell_type": "code",
   "execution_count": 38,
   "metadata": {},
   "outputs": [
    {
     "data": {
      "image/png": "[encoded data removed]",
      "text/plain": [
       "<Figure size 720x432 with 1 Axes>"
      ]
     },
     "metadata": {
      "needs_background": "light"
     },
     "output_type": "display_data"
    }
   ],
   "source": [
    "_ = plt.figure(figsize=(10, 6))\n",
    "_ = plt.plot(y2_test)\n",
    "_ = plt.plot(y2_pred)\n",
    "_ = plt.legend([\"actual\", \"pred\"])\n",
    "plt.show()"
   ]
  },
  {
   "cell_type": "markdown",
   "metadata": {},
   "source": [
    "## Initial Findings and Conclusion\n",
    "\n",
    "During this stage (preprocessing and training), we started by standardizing the magnitude of numeric features within our original dataframe by using _StandardScaler()_. This function allows us to normalize the features of each column(X), individually, so that each column/feature/variable will have a mean of 0 and standard deviation of 1. After transforming the dataframe we then split it into two separate ones, training and testing using _train_test_split()_. From there we created a baseline for our predictions or future models by utilizing two simple multi linear regression models using ordinary least squares(OLS). \n",
    "\n",
    "One iteration of our linear regression model, for X contained all available features, aside from the target(y). While the other one for X contained all features except the target and \"close\", with the target(y) remaining the same. We then calculated the _MAPE_, _MAE_, and _MSE_ for each. By comparison, the first linear regression model performed better as the mean absolute percent error was roughly 53%, meaning the errors are \"slightly greater\" than the actual values. Whereas the second linear regression model gave us an _MAPE_ of roughly 198%, meaning our errors of that model were \"much greater\" than the actual values. This difference in _MAPE_ can be seen as well when comparing _RMSE_ results to _MAE_ results for each model. We can see the first model gave an _RMSE_ output of approx. 0.13 and an _MAE_ output of approx. 0.096. Since the two measurements are relatively close to each other it can be implied that the model makes many mistakes, but the mistakes are \"small\". The same can be said for the other model but opposite when comparing metrics. \n",
    "\n",
    "That being said, we can see that the feature \"close\" is fairly important when being utilized in a regression model. As when it was removed, the performance of the model decreased. Because of these brief findings, we have further confirmed the original \"hypothesis\" formed during the EDA stage in exploring the high correlation between \"close_nextday\" and \"close\".\n",
    "\n",
    "During the next stage (modeling), we will be examining other model architecture such as ensemble methods through \"trees\", i.e. random forest regressors(RFR). We will be improving or tuning our different models using optimization methods like _GridSearchCV_. Moreover, optimization will also aid us in the analysis of features (i.e. feature \"impact\" or \"importance\") as well as interpretability as a whole. "
   ]
  }
 ],
 "metadata": {
  "kernelspec": {
   "display_name": "Python 3",
   "language": "python",
   "name": "python3"
  },
  "language_info": {
   "codemirror_mode": {
    "name": "ipython",
    "version": 3
   },
   "file_extension": ".py",
   "mimetype": "text/x-python",
   "name": "python",
   "nbconvert_exporter": "python",
   "pygments_lexer": "ipython3",
   "version": "3.8.5"
  },
  "toc": {
   "base_numbering": 1,
   "nav_menu": {},
   "number_sections": false,
   "sideBar": true,
   "skip_h1_title": true,
   "title_cell": "Table of Contents",
   "title_sidebar": "Contents",
   "toc_cell": false,
   "toc_position": {},
   "toc_section_display": true,
   "toc_window_display": false
  }
 },
 "nbformat": 4,
 "nbformat_minor": 4
}
