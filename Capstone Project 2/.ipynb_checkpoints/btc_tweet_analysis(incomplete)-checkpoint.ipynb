{
 "cells": [
  {
   "cell_type": "code",
   "execution_count": 1,
   "metadata": {},
   "outputs": [],
   "source": [
    "import pandas as pd \n",
    "import numpy as np\n",
    "from nltk.translate.bleu_score import sentence_bleu\n",
    "from textblob.classifiers import NaiveBayesClassifier"
   ]
  },
  {
   "cell_type": "code",
   "execution_count": 2,
   "metadata": {},
   "outputs": [],
   "source": [
    "df = pd.read_csv('data/btc_sentiment.csv')"
   ]
  },
  {
   "cell_type": "code",
   "execution_count": 3,
   "metadata": {},
   "outputs": [],
   "source": [
    "conditions = [\n",
    "    (df['tweet_sentiment'] < 0.0),\n",
    "    (df['tweet_sentiment'] > 0.0),\n",
    "    (df['tweet_sentiment'] == 0.0)\n",
    "    ]\n",
    "\n",
    "# create a list of the values we want to assign for each condition\n",
    "values = ['neg', 'pos', 'neut']\n",
    "\n",
    "# create a new column and use np.select to assign values to it using our lists as arguments\n",
    "df['labels'] = np.select(conditions, values)"
   ]
  },
  {
   "cell_type": "code",
   "execution_count": 4,
   "metadata": {},
   "outputs": [
    {
     "data": {
      "text/html": [
       "<div>\n",
       "<style scoped>\n",
       "    .dataframe tbody tr th:only-of-type {\n",
       "        vertical-align: middle;\n",
       "    }\n",
       "\n",
       "    .dataframe tbody tr th {\n",
       "        vertical-align: top;\n",
       "    }\n",
       "\n",
       "    .dataframe thead th {\n",
       "        text-align: right;\n",
       "    }\n",
       "</style>\n",
       "<table border=\"1\" class=\"dataframe\">\n",
       "  <thead>\n",
       "    <tr style=\"text-align: right;\">\n",
       "      <th></th>\n",
       "      <th>date</th>\n",
       "      <th>tweet_sentiment</th>\n",
       "      <th>labels</th>\n",
       "    </tr>\n",
       "  </thead>\n",
       "  <tbody>\n",
       "    <tr>\n",
       "      <th>0</th>\n",
       "      <td>2019-09-02</td>\n",
       "      <td>-1.0</td>\n",
       "      <td>neg</td>\n",
       "    </tr>\n",
       "    <tr>\n",
       "      <th>1</th>\n",
       "      <td>2019-09-03</td>\n",
       "      <td>0.5</td>\n",
       "      <td>pos</td>\n",
       "    </tr>\n",
       "    <tr>\n",
       "      <th>2</th>\n",
       "      <td>2019-09-04</td>\n",
       "      <td>0.5</td>\n",
       "      <td>pos</td>\n",
       "    </tr>\n",
       "    <tr>\n",
       "      <th>3</th>\n",
       "      <td>2019-09-05</td>\n",
       "      <td>0.5</td>\n",
       "      <td>pos</td>\n",
       "    </tr>\n",
       "    <tr>\n",
       "      <th>4</th>\n",
       "      <td>2019-09-06</td>\n",
       "      <td>0.0</td>\n",
       "      <td>neut</td>\n",
       "    </tr>\n",
       "  </tbody>\n",
       "</table>\n",
       "</div>"
      ],
      "text/plain": [
       "         date  tweet_sentiment labels\n",
       "0  2019-09-02             -1.0    neg\n",
       "1  2019-09-03              0.5    pos\n",
       "2  2019-09-04              0.5    pos\n",
       "3  2019-09-05              0.5    pos\n",
       "4  2019-09-06              0.0   neut"
      ]
     },
     "execution_count": 4,
     "metadata": {},
     "output_type": "execute_result"
    }
   ],
   "source": [
    "df.head()"
   ]
  },
  {
   "cell_type": "code",
   "execution_count": 5,
   "metadata": {},
   "outputs": [],
   "source": [
    "df1 = pd.read_csv('data/tweets_btcusd.csv', index_col=[0], parse_dates=True)"
   ]
  },
  {
   "cell_type": "code",
   "execution_count": 6,
   "metadata": {},
   "outputs": [],
   "source": [
    "df1.set_index(['date'], inplace=True)"
   ]
  },
  {
   "cell_type": "code",
   "execution_count": 7,
   "metadata": {},
   "outputs": [],
   "source": [
    "import re"
   ]
  },
  {
   "cell_type": "code",
   "execution_count": 8,
   "metadata": {},
   "outputs": [],
   "source": [
    "df1['tweet_text_clean']=df1['tweet'].apply(lambda row: ' '.join(re.sub(\"(@[A-Za-z0-9]+)|([^0-9A-Za-z \\t])|(\\w+:\\/\\/\\S+)\", \" \", row).split()))"
   ]
  },
  {
   "cell_type": "code",
   "execution_count": 9,
   "metadata": {},
   "outputs": [],
   "source": [
    "df1.index = pd.to_datetime(df1.index)"
   ]
  },
  {
   "cell_type": "code",
   "execution_count": 10,
   "metadata": {},
   "outputs": [
    {
     "data": {
      "text/html": [
       "<div>\n",
       "<style scoped>\n",
       "    .dataframe tbody tr th:only-of-type {\n",
       "        vertical-align: middle;\n",
       "    }\n",
       "\n",
       "    .dataframe tbody tr th {\n",
       "        vertical-align: top;\n",
       "    }\n",
       "\n",
       "    .dataframe thead th {\n",
       "        text-align: right;\n",
       "    }\n",
       "</style>\n",
       "<table border=\"1\" class=\"dataframe\">\n",
       "  <thead>\n",
       "    <tr style=\"text-align: right;\">\n",
       "      <th></th>\n",
       "      <th>username</th>\n",
       "      <th>tweet</th>\n",
       "      <th>tweet_text_clean</th>\n",
       "    </tr>\n",
       "    <tr>\n",
       "      <th>date</th>\n",
       "      <th></th>\n",
       "      <th></th>\n",
       "      <th></th>\n",
       "    </tr>\n",
       "  </thead>\n",
       "  <tbody>\n",
       "    <tr>\n",
       "      <th>2020-11-15 03:07:47</th>\n",
       "      <td>DaveCrypto83</td>\n",
       "      <td>#bitcoin #ew update $BTCUSD 1 day and 4hr char...</td>\n",
       "      <td>bitcoin ew update BTCUSD 1 day and 4hr charted...</td>\n",
       "    </tr>\n",
       "    <tr>\n",
       "      <th>2020-11-14 15:02:03</th>\n",
       "      <td>Ozono_Merval</td>\n",
       "      <td>$BTCUSD por cruces de MM fueron compra las zon...</td>\n",
       "      <td>BTCUSD por cruces de MM fueron compra las zona...</td>\n",
       "    </tr>\n",
       "    <tr>\n",
       "      <th>2020-11-14 14:45:59</th>\n",
       "      <td>Ozono_Merval</td>\n",
       "      <td>No vas a encontrar a otro loco que hable de AT...</td>\n",
       "      <td>No vas a encontrar a otro loco que hable de AT...</td>\n",
       "    </tr>\n",
       "    <tr>\n",
       "      <th>2020-11-14 11:45:03</th>\n",
       "      <td>RadioSilentplay</td>\n",
       "      <td>$BTCUSD 15982 UPDATE: Monthly Bull Run:   Elli...</td>\n",
       "      <td>BTCUSD 15982 UPDATE Monthly Bull Run Elliott W...</td>\n",
       "    </tr>\n",
       "    <tr>\n",
       "      <th>2020-11-14 07:34:08</th>\n",
       "      <td>FeraSY1</td>\n",
       "      <td>#Bitcoin 4H TF 2 Important zone to watch for a...</td>\n",
       "      <td>Bitcoin 4H TF 2 Important zone to watch for an...</td>\n",
       "    </tr>\n",
       "  </tbody>\n",
       "</table>\n",
       "</div>"
      ],
      "text/plain": [
       "                            username  \\\n",
       "date                                   \n",
       "2020-11-15 03:07:47     DaveCrypto83   \n",
       "2020-11-14 15:02:03     Ozono_Merval   \n",
       "2020-11-14 14:45:59     Ozono_Merval   \n",
       "2020-11-14 11:45:03  RadioSilentplay   \n",
       "2020-11-14 07:34:08          FeraSY1   \n",
       "\n",
       "                                                                 tweet  \\\n",
       "date                                                                     \n",
       "2020-11-15 03:07:47  #bitcoin #ew update $BTCUSD 1 day and 4hr char...   \n",
       "2020-11-14 15:02:03  $BTCUSD por cruces de MM fueron compra las zon...   \n",
       "2020-11-14 14:45:59  No vas a encontrar a otro loco que hable de AT...   \n",
       "2020-11-14 11:45:03  $BTCUSD 15982 UPDATE: Monthly Bull Run:   Elli...   \n",
       "2020-11-14 07:34:08  #Bitcoin 4H TF 2 Important zone to watch for a...   \n",
       "\n",
       "                                                      tweet_text_clean  \n",
       "date                                                                    \n",
       "2020-11-15 03:07:47  bitcoin ew update BTCUSD 1 day and 4hr charted...  \n",
       "2020-11-14 15:02:03  BTCUSD por cruces de MM fueron compra las zona...  \n",
       "2020-11-14 14:45:59  No vas a encontrar a otro loco que hable de AT...  \n",
       "2020-11-14 11:45:03  BTCUSD 15982 UPDATE Monthly Bull Run Elliott W...  \n",
       "2020-11-14 07:34:08  Bitcoin 4H TF 2 Important zone to watch for an...  "
      ]
     },
     "execution_count": 10,
     "metadata": {},
     "output_type": "execute_result"
    }
   ],
   "source": [
    "df1.head()"
   ]
  },
  {
   "cell_type": "code",
   "execution_count": 11,
   "metadata": {},
   "outputs": [],
   "source": [
    "df1.drop(['username', 'tweet'], axis=1, inplace=True)"
   ]
  },
  {
   "cell_type": "code",
   "execution_count": 12,
   "metadata": {},
   "outputs": [
    {
     "data": {
      "text/html": [
       "<div>\n",
       "<style scoped>\n",
       "    .dataframe tbody tr th:only-of-type {\n",
       "        vertical-align: middle;\n",
       "    }\n",
       "\n",
       "    .dataframe tbody tr th {\n",
       "        vertical-align: top;\n",
       "    }\n",
       "\n",
       "    .dataframe thead th {\n",
       "        text-align: right;\n",
       "    }\n",
       "</style>\n",
       "<table border=\"1\" class=\"dataframe\">\n",
       "  <thead>\n",
       "    <tr style=\"text-align: right;\">\n",
       "      <th></th>\n",
       "      <th>tweet_text_clean</th>\n",
       "    </tr>\n",
       "    <tr>\n",
       "      <th>date</th>\n",
       "      <th></th>\n",
       "    </tr>\n",
       "  </thead>\n",
       "  <tbody>\n",
       "    <tr>\n",
       "      <th>2020-11-15 03:07:47</th>\n",
       "      <td>bitcoin ew update BTCUSD 1 day and 4hr charted...</td>\n",
       "    </tr>\n",
       "    <tr>\n",
       "      <th>2020-11-14 15:02:03</th>\n",
       "      <td>BTCUSD por cruces de MM fueron compra las zona...</td>\n",
       "    </tr>\n",
       "    <tr>\n",
       "      <th>2020-11-14 14:45:59</th>\n",
       "      <td>No vas a encontrar a otro loco que hable de AT...</td>\n",
       "    </tr>\n",
       "    <tr>\n",
       "      <th>2020-11-14 11:45:03</th>\n",
       "      <td>BTCUSD 15982 UPDATE Monthly Bull Run Elliott W...</td>\n",
       "    </tr>\n",
       "    <tr>\n",
       "      <th>2020-11-14 07:34:08</th>\n",
       "      <td>Bitcoin 4H TF 2 Important zone to watch for an...</td>\n",
       "    </tr>\n",
       "  </tbody>\n",
       "</table>\n",
       "</div>"
      ],
      "text/plain": [
       "                                                      tweet_text_clean\n",
       "date                                                                  \n",
       "2020-11-15 03:07:47  bitcoin ew update BTCUSD 1 day and 4hr charted...\n",
       "2020-11-14 15:02:03  BTCUSD por cruces de MM fueron compra las zona...\n",
       "2020-11-14 14:45:59  No vas a encontrar a otro loco que hable de AT...\n",
       "2020-11-14 11:45:03  BTCUSD 15982 UPDATE Monthly Bull Run Elliott W...\n",
       "2020-11-14 07:34:08  Bitcoin 4H TF 2 Important zone to watch for an..."
      ]
     },
     "execution_count": 12,
     "metadata": {},
     "output_type": "execute_result"
    }
   ],
   "source": [
    "df1.head()"
   ]
  },
  {
   "cell_type": "code",
   "execution_count": 16,
   "metadata": {},
   "outputs": [],
   "source": [
    "df1 = df1.reset_index()"
   ]
  },
  {
   "cell_type": "code",
   "execution_count": 18,
   "metadata": {},
   "outputs": [],
   "source": [
    "df1.drop('date', axis=1, inplace=True)"
   ]
  },
  {
   "cell_type": "code",
   "execution_count": 19,
   "metadata": {},
   "outputs": [
    {
     "data": {
      "text/html": [
       "<div>\n",
       "<style scoped>\n",
       "    .dataframe tbody tr th:only-of-type {\n",
       "        vertical-align: middle;\n",
       "    }\n",
       "\n",
       "    .dataframe tbody tr th {\n",
       "        vertical-align: top;\n",
       "    }\n",
       "\n",
       "    .dataframe thead th {\n",
       "        text-align: right;\n",
       "    }\n",
       "</style>\n",
       "<table border=\"1\" class=\"dataframe\">\n",
       "  <thead>\n",
       "    <tr style=\"text-align: right;\">\n",
       "      <th></th>\n",
       "      <th>tweet_text_clean</th>\n",
       "    </tr>\n",
       "  </thead>\n",
       "  <tbody>\n",
       "    <tr>\n",
       "      <th>0</th>\n",
       "      <td>bitcoin ew update BTCUSD 1 day and 4hr charted...</td>\n",
       "    </tr>\n",
       "    <tr>\n",
       "      <th>1</th>\n",
       "      <td>BTCUSD por cruces de MM fueron compra las zona...</td>\n",
       "    </tr>\n",
       "    <tr>\n",
       "      <th>2</th>\n",
       "      <td>No vas a encontrar a otro loco que hable de AT...</td>\n",
       "    </tr>\n",
       "    <tr>\n",
       "      <th>3</th>\n",
       "      <td>BTCUSD 15982 UPDATE Monthly Bull Run Elliott W...</td>\n",
       "    </tr>\n",
       "    <tr>\n",
       "      <th>4</th>\n",
       "      <td>Bitcoin 4H TF 2 Important zone to watch for an...</td>\n",
       "    </tr>\n",
       "  </tbody>\n",
       "</table>\n",
       "</div>"
      ],
      "text/plain": [
       "                                    tweet_text_clean\n",
       "0  bitcoin ew update BTCUSD 1 day and 4hr charted...\n",
       "1  BTCUSD por cruces de MM fueron compra las zona...\n",
       "2  No vas a encontrar a otro loco que hable de AT...\n",
       "3  BTCUSD 15982 UPDATE Monthly Bull Run Elliott W...\n",
       "4  Bitcoin 4H TF 2 Important zone to watch for an..."
      ]
     },
     "execution_count": 19,
     "metadata": {},
     "output_type": "execute_result"
    }
   ],
   "source": [
    "df1.head()"
   ]
  },
  {
   "cell_type": "code",
   "execution_count": 22,
   "metadata": {},
   "outputs": [],
   "source": [
    "df1.to_csv('data/plain_tweets.csv')"
   ]
  },
  {
   "cell_type": "code",
   "execution_count": 23,
   "metadata": {},
   "outputs": [],
   "source": [
    "df1 = pd.read_csv('data/plain_tweets.csv')"
   ]
  },
  {
   "cell_type": "code",
   "execution_count": 27,
   "metadata": {},
   "outputs": [
    {
     "data": {
      "text/html": [
       "<div>\n",
       "<style scoped>\n",
       "    .dataframe tbody tr th:only-of-type {\n",
       "        vertical-align: middle;\n",
       "    }\n",
       "\n",
       "    .dataframe tbody tr th {\n",
       "        vertical-align: top;\n",
       "    }\n",
       "\n",
       "    .dataframe thead th {\n",
       "        text-align: right;\n",
       "    }\n",
       "</style>\n",
       "<table border=\"1\" class=\"dataframe\">\n",
       "  <thead>\n",
       "    <tr style=\"text-align: right;\">\n",
       "      <th></th>\n",
       "      <th>Unnamed: 0</th>\n",
       "      <th>tweet_text_clean</th>\n",
       "    </tr>\n",
       "  </thead>\n",
       "  <tbody>\n",
       "    <tr>\n",
       "      <th>0</th>\n",
       "      <td>0</td>\n",
       "      <td>bitcoin ew update BTCUSD 1 day and 4hr charted...</td>\n",
       "    </tr>\n",
       "    <tr>\n",
       "      <th>1</th>\n",
       "      <td>1</td>\n",
       "      <td>BTCUSD por cruces de MM fueron compra las zona...</td>\n",
       "    </tr>\n",
       "    <tr>\n",
       "      <th>2</th>\n",
       "      <td>2</td>\n",
       "      <td>No vas a encontrar a otro loco que hable de AT...</td>\n",
       "    </tr>\n",
       "    <tr>\n",
       "      <th>3</th>\n",
       "      <td>3</td>\n",
       "      <td>BTCUSD 15982 UPDATE Monthly Bull Run Elliott W...</td>\n",
       "    </tr>\n",
       "    <tr>\n",
       "      <th>4</th>\n",
       "      <td>4</td>\n",
       "      <td>Bitcoin 4H TF 2 Important zone to watch for an...</td>\n",
       "    </tr>\n",
       "  </tbody>\n",
       "</table>\n",
       "</div>"
      ],
      "text/plain": [
       "   Unnamed: 0                                   tweet_text_clean\n",
       "0           0  bitcoin ew update BTCUSD 1 day and 4hr charted...\n",
       "1           1  BTCUSD por cruces de MM fueron compra las zona...\n",
       "2           2  No vas a encontrar a otro loco que hable de AT...\n",
       "3           3  BTCUSD 15982 UPDATE Monthly Bull Run Elliott W...\n",
       "4           4  Bitcoin 4H TF 2 Important zone to watch for an..."
      ]
     },
     "execution_count": 27,
     "metadata": {},
     "output_type": "execute_result"
    }
   ],
   "source": [
    "df1.head()"
   ]
  },
  {
   "cell_type": "code",
   "execution_count": 30,
   "metadata": {},
   "outputs": [],
   "source": [
    "df1.drop('Unnamed: 0', axis=1, inplace=True)"
   ]
  },
  {
   "cell_type": "code",
   "execution_count": 31,
   "metadata": {},
   "outputs": [],
   "source": [
    "df5 = df.join(df1, how='outer')"
   ]
  },
  {
   "cell_type": "code",
   "execution_count": 32,
   "metadata": {},
   "outputs": [
    {
     "data": {
      "text/html": [
       "<div>\n",
       "<style scoped>\n",
       "    .dataframe tbody tr th:only-of-type {\n",
       "        vertical-align: middle;\n",
       "    }\n",
       "\n",
       "    .dataframe tbody tr th {\n",
       "        vertical-align: top;\n",
       "    }\n",
       "\n",
       "    .dataframe thead th {\n",
       "        text-align: right;\n",
       "    }\n",
       "</style>\n",
       "<table border=\"1\" class=\"dataframe\">\n",
       "  <thead>\n",
       "    <tr style=\"text-align: right;\">\n",
       "      <th></th>\n",
       "      <th>date</th>\n",
       "      <th>tweet_sentiment</th>\n",
       "      <th>labels</th>\n",
       "      <th>tweet_text_clean</th>\n",
       "    </tr>\n",
       "  </thead>\n",
       "  <tbody>\n",
       "    <tr>\n",
       "      <th>0</th>\n",
       "      <td>2019-09-02</td>\n",
       "      <td>-1.0</td>\n",
       "      <td>neg</td>\n",
       "      <td>bitcoin ew update BTCUSD 1 day and 4hr charted...</td>\n",
       "    </tr>\n",
       "    <tr>\n",
       "      <th>1</th>\n",
       "      <td>2019-09-03</td>\n",
       "      <td>0.5</td>\n",
       "      <td>pos</td>\n",
       "      <td>BTCUSD por cruces de MM fueron compra las zona...</td>\n",
       "    </tr>\n",
       "    <tr>\n",
       "      <th>2</th>\n",
       "      <td>2019-09-04</td>\n",
       "      <td>0.5</td>\n",
       "      <td>pos</td>\n",
       "      <td>No vas a encontrar a otro loco que hable de AT...</td>\n",
       "    </tr>\n",
       "    <tr>\n",
       "      <th>3</th>\n",
       "      <td>2019-09-05</td>\n",
       "      <td>0.5</td>\n",
       "      <td>pos</td>\n",
       "      <td>BTCUSD 15982 UPDATE Monthly Bull Run Elliott W...</td>\n",
       "    </tr>\n",
       "    <tr>\n",
       "      <th>4</th>\n",
       "      <td>2019-09-06</td>\n",
       "      <td>0.0</td>\n",
       "      <td>neut</td>\n",
       "      <td>Bitcoin 4H TF 2 Important zone to watch for an...</td>\n",
       "    </tr>\n",
       "  </tbody>\n",
       "</table>\n",
       "</div>"
      ],
      "text/plain": [
       "         date  tweet_sentiment labels  \\\n",
       "0  2019-09-02             -1.0    neg   \n",
       "1  2019-09-03              0.5    pos   \n",
       "2  2019-09-04              0.5    pos   \n",
       "3  2019-09-05              0.5    pos   \n",
       "4  2019-09-06              0.0   neut   \n",
       "\n",
       "                                    tweet_text_clean  \n",
       "0  bitcoin ew update BTCUSD 1 day and 4hr charted...  \n",
       "1  BTCUSD por cruces de MM fueron compra las zona...  \n",
       "2  No vas a encontrar a otro loco que hable de AT...  \n",
       "3  BTCUSD 15982 UPDATE Monthly Bull Run Elliott W...  \n",
       "4  Bitcoin 4H TF 2 Important zone to watch for an...  "
      ]
     },
     "execution_count": 32,
     "metadata": {},
     "output_type": "execute_result"
    }
   ],
   "source": [
    "df5.head()"
   ]
  },
  {
   "cell_type": "code",
   "execution_count": 33,
   "metadata": {},
   "outputs": [],
   "source": [
    "df5.drop('date', axis=1, inplace=True)"
   ]
  },
  {
   "cell_type": "code",
   "execution_count": 34,
   "metadata": {},
   "outputs": [
    {
     "data": {
      "text/html": [
       "<div>\n",
       "<style scoped>\n",
       "    .dataframe tbody tr th:only-of-type {\n",
       "        vertical-align: middle;\n",
       "    }\n",
       "\n",
       "    .dataframe tbody tr th {\n",
       "        vertical-align: top;\n",
       "    }\n",
       "\n",
       "    .dataframe thead th {\n",
       "        text-align: right;\n",
       "    }\n",
       "</style>\n",
       "<table border=\"1\" class=\"dataframe\">\n",
       "  <thead>\n",
       "    <tr style=\"text-align: right;\">\n",
       "      <th></th>\n",
       "      <th>tweet_sentiment</th>\n",
       "      <th>labels</th>\n",
       "      <th>tweet_text_clean</th>\n",
       "    </tr>\n",
       "  </thead>\n",
       "  <tbody>\n",
       "    <tr>\n",
       "      <th>0</th>\n",
       "      <td>-1.0</td>\n",
       "      <td>neg</td>\n",
       "      <td>bitcoin ew update BTCUSD 1 day and 4hr charted...</td>\n",
       "    </tr>\n",
       "    <tr>\n",
       "      <th>1</th>\n",
       "      <td>0.5</td>\n",
       "      <td>pos</td>\n",
       "      <td>BTCUSD por cruces de MM fueron compra las zona...</td>\n",
       "    </tr>\n",
       "    <tr>\n",
       "      <th>2</th>\n",
       "      <td>0.5</td>\n",
       "      <td>pos</td>\n",
       "      <td>No vas a encontrar a otro loco que hable de AT...</td>\n",
       "    </tr>\n",
       "    <tr>\n",
       "      <th>3</th>\n",
       "      <td>0.5</td>\n",
       "      <td>pos</td>\n",
       "      <td>BTCUSD 15982 UPDATE Monthly Bull Run Elliott W...</td>\n",
       "    </tr>\n",
       "    <tr>\n",
       "      <th>4</th>\n",
       "      <td>0.0</td>\n",
       "      <td>neut</td>\n",
       "      <td>Bitcoin 4H TF 2 Important zone to watch for an...</td>\n",
       "    </tr>\n",
       "  </tbody>\n",
       "</table>\n",
       "</div>"
      ],
      "text/plain": [
       "   tweet_sentiment labels                                   tweet_text_clean\n",
       "0             -1.0    neg  bitcoin ew update BTCUSD 1 day and 4hr charted...\n",
       "1              0.5    pos  BTCUSD por cruces de MM fueron compra las zona...\n",
       "2              0.5    pos  No vas a encontrar a otro loco que hable de AT...\n",
       "3              0.5    pos  BTCUSD 15982 UPDATE Monthly Bull Run Elliott W...\n",
       "4              0.0   neut  Bitcoin 4H TF 2 Important zone to watch for an..."
      ]
     },
     "execution_count": 34,
     "metadata": {},
     "output_type": "execute_result"
    }
   ],
   "source": [
    "df5.head()"
   ]
  },
  {
   "cell_type": "code",
   "execution_count": 36,
   "metadata": {},
   "outputs": [],
   "source": [
    "df5.to_csv('data/sentiment_accuracy.csv')"
   ]
  },
  {
   "cell_type": "code",
   "execution_count": null,
   "metadata": {},
   "outputs": [],
   "source": [
    "\n",
    "reference = [['the', 'cat',\"is\",\"sitting\",\"on\",\"the\",\"mat\"]]\n",
    "candidate = [\"on\",'the',\"mat\",\"is\",\"a\",\"cat\"]\n",
    "score = sentence_bleu(  reference, candidate)\n",
    "print(score)"
   ]
  },
  {
   "cell_type": "code",
   "execution_count": null,
   "metadata": {},
   "outputs": [],
   "source": [
    "train = [\n",
    "     ('What an amazing weather.', 'pos'),\n",
    "     ('this is an amazing idea!', 'pos'),\n",
    "     ('I feel very good about these ideas.', 'pos'),\n",
    "     ('this is my best performance.', 'pos'),\n",
    "     (\"what an awesome view\", 'pos'),\n",
    "     ('I do not like this place', 'neg'),\n",
    "     ('I am tired of this stuff.', 'neg'),\n",
    "     (\"I can't deal with all this tension\", 'neg'),\n",
    "     ('he is my sworn enemy!', 'neg'),\n",
    "     ('my friends is horrible.', 'neg')\n",
    " ]\n",
    "test = [\n",
    "     ('the food was great.', 'pos'),\n",
    "     ('I do not want to live anymore', 'neg'),\n",
    "     (\"I ain't feeling dandy today.\", 'neg'),\n",
    "     (\"I feel amazing!\", 'pos'),\n",
    "     ('Ramesh is a friend of mine.', 'pos'),\n",
    "     (\"I can't believe I'm doing this.\", 'neg')\n",
    " ]\n",
    "\n",
    "cl = NaiveBayesClassifier(train)\n",
    "print(cl.classify(\"This is an amazing library!\"))\n",
    "# Lets test the accuracy of the classifier\n",
    "print(cl.accuracy(test))"
   ]
  },
  {
   "cell_type": "code",
   "execution_count": null,
   "metadata": {},
   "outputs": [],
   "source": [
    "df.head()"
   ]
  }
 ],
 "metadata": {
  "kernelspec": {
   "display_name": "Python 3",
   "language": "python",
   "name": "python3"
  },
  "language_info": {
   "codemirror_mode": {
    "name": "ipython",
    "version": 3
   },
   "file_extension": ".py",
   "mimetype": "text/x-python",
   "name": "python",
   "nbconvert_exporter": "python",
   "pygments_lexer": "ipython3",
   "version": "3.8.5"
  },
  "toc": {
   "base_numbering": 1,
   "nav_menu": {},
   "number_sections": false,
   "sideBar": true,
   "skip_h1_title": true,
   "title_cell": "Table of Contents",
   "title_sidebar": "Contents",
   "toc_cell": false,
   "toc_position": {},
   "toc_section_display": true,
   "toc_window_display": false
  }
 },
 "nbformat": 4,
 "nbformat_minor": 4
}
