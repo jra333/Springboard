{
 "cells": [
  {
   "cell_type": "markdown",
   "metadata": {},
   "source": [
    "# BTC Price Prediction (Preprocessing and Training)\n",
    "\n",
    "### This notebook contains:\n",
    "- Use of \"Standard Scaler\" to ensure values are to scale for modeling (no large fluctuations), preventing leakage\n",
    "- Splitting of dataframe into \"testing\" and \"training\" subsets using \"train_test_split\" \n",
    "- Overall preprocessing to prep for modeling and implementation of various classifying/tree based methods"
   ]
  },
  {
   "cell_type": "code",
   "execution_count": 1,
   "metadata": {},
   "outputs": [],
   "source": [
    "from sklearn.model_selection import train_test_split\n",
    "from sklearn.model_selection import TimeSeriesSplit\n",
    "from sklearn.preprocessing import StandardScaler\n",
    "from sklearn.linear_model import LogisticRegression\n",
    "from sklearn.linear_model import LinearRegression\n",
    "from sklearn import linear_model, preprocessing\n",
    "from sklearn.metrics import accuracy_score\n",
    "from sklearn.ensemble import RandomForestRegressor\n",
    "from sklearn.ensemble import VotingClassifier\n",
    "from sklearn import metrics\n",
    "from sklearn import tree\n",
    "from sklearn.svm import SVR\n",
    "\n",
    "import pandas as pd\n",
    "import numpy as np\n",
    "import statsmodels.api as sm\n",
    "\n",
    "import matplotlib.pyplot as plt\n",
    "import seaborn as sns"
   ]
  },
  {
   "cell_type": "code",
   "execution_count": 2,
   "metadata": {},
   "outputs": [],
   "source": [
    "training_data = pd.read_csv('data/train.csv', index_col='Date')"
   ]
  },
  {
   "cell_type": "code",
   "execution_count": 3,
   "metadata": {},
   "outputs": [],
   "source": [
    "testing_data = pd.read_csv('data/test.csv', index_col='Date')"
   ]
  },
  {
   "cell_type": "code",
   "execution_count": 4,
   "metadata": {},
   "outputs": [
    {
     "data": {
      "text/html": [
       "<div>\n",
       "<style scoped>\n",
       "    .dataframe tbody tr th:only-of-type {\n",
       "        vertical-align: middle;\n",
       "    }\n",
       "\n",
       "    .dataframe tbody tr th {\n",
       "        vertical-align: top;\n",
       "    }\n",
       "\n",
       "    .dataframe thead th {\n",
       "        text-align: right;\n",
       "    }\n",
       "</style>\n",
       "<table border=\"1\" class=\"dataframe\">\n",
       "  <thead>\n",
       "    <tr style=\"text-align: right;\">\n",
       "      <th></th>\n",
       "      <th>close</th>\n",
       "      <th>volume</th>\n",
       "      <th>ema_short</th>\n",
       "      <th>ema_long</th>\n",
       "      <th>atr</th>\n",
       "      <th>obv</th>\n",
       "      <th>tweet_sentiment</th>\n",
       "      <th>close_nextday</th>\n",
       "    </tr>\n",
       "    <tr>\n",
       "      <th>Date</th>\n",
       "      <th></th>\n",
       "      <th></th>\n",
       "      <th></th>\n",
       "      <th></th>\n",
       "      <th></th>\n",
       "      <th></th>\n",
       "      <th></th>\n",
       "      <th></th>\n",
       "    </tr>\n",
       "  </thead>\n",
       "  <tbody>\n",
       "    <tr>\n",
       "      <th>2019-09-02</th>\n",
       "      <td>10340.00</td>\n",
       "      <td>44740.25</td>\n",
       "      <td>10164.518939</td>\n",
       "      <td>10452.265343</td>\n",
       "      <td>530.693553</td>\n",
       "      <td>225053.863244</td>\n",
       "      <td>-1.0</td>\n",
       "      <td>10615.28</td>\n",
       "    </tr>\n",
       "    <tr>\n",
       "      <th>2019-09-03</th>\n",
       "      <td>10615.28</td>\n",
       "      <td>47998.38</td>\n",
       "      <td>10207.448563</td>\n",
       "      <td>10458.658074</td>\n",
       "      <td>528.572585</td>\n",
       "      <td>273052.240025</td>\n",
       "      <td>0.5</td>\n",
       "      <td>10567.02</td>\n",
       "    </tr>\n",
       "    <tr>\n",
       "      <th>2019-09-04</th>\n",
       "      <td>10567.02</td>\n",
       "      <td>43943.89</td>\n",
       "      <td>10241.693462</td>\n",
       "      <td>10462.907561</td>\n",
       "      <td>521.468114</td>\n",
       "      <td>229108.350999</td>\n",
       "      <td>0.5</td>\n",
       "      <td>10564.49</td>\n",
       "    </tr>\n",
       "    <tr>\n",
       "      <th>2019-09-05</th>\n",
       "      <td>10564.49</td>\n",
       "      <td>33970.96</td>\n",
       "      <td>10272.435990</td>\n",
       "      <td>10466.891187</td>\n",
       "      <td>516.363249</td>\n",
       "      <td>195137.390360</td>\n",
       "      <td>0.5</td>\n",
       "      <td>10298.73</td>\n",
       "    </tr>\n",
       "    <tr>\n",
       "      <th>2019-09-06</th>\n",
       "      <td>10298.73</td>\n",
       "      <td>58799.64</td>\n",
       "      <td>10274.940181</td>\n",
       "      <td>10460.296630</td>\n",
       "      <td>533.470874</td>\n",
       "      <td>136337.749401</td>\n",
       "      <td>0.0</td>\n",
       "      <td>10455.88</td>\n",
       "    </tr>\n",
       "  </tbody>\n",
       "</table>\n",
       "</div>"
      ],
      "text/plain": [
       "               close    volume     ema_short      ema_long         atr  \\\n",
       "Date                                                                     \n",
       "2019-09-02  10340.00  44740.25  10164.518939  10452.265343  530.693553   \n",
       "2019-09-03  10615.28  47998.38  10207.448563  10458.658074  528.572585   \n",
       "2019-09-04  10567.02  43943.89  10241.693462  10462.907561  521.468114   \n",
       "2019-09-05  10564.49  33970.96  10272.435990  10466.891187  516.363249   \n",
       "2019-09-06  10298.73  58799.64  10274.940181  10460.296630  533.470874   \n",
       "\n",
       "                      obv  tweet_sentiment  close_nextday  \n",
       "Date                                                       \n",
       "2019-09-02  225053.863244             -1.0       10615.28  \n",
       "2019-09-03  273052.240025              0.5       10567.02  \n",
       "2019-09-04  229108.350999              0.5       10564.49  \n",
       "2019-09-05  195137.390360              0.5       10298.73  \n",
       "2019-09-06  136337.749401              0.0       10455.88  "
      ]
     },
     "execution_count": 4,
     "metadata": {},
     "output_type": "execute_result"
    }
   ],
   "source": [
    "training_data.head()"
   ]
  },
  {
   "cell_type": "code",
   "execution_count": 5,
   "metadata": {},
   "outputs": [
    {
     "data": {
      "text/html": [
       "<div>\n",
       "<style scoped>\n",
       "    .dataframe tbody tr th:only-of-type {\n",
       "        vertical-align: middle;\n",
       "    }\n",
       "\n",
       "    .dataframe tbody tr th {\n",
       "        vertical-align: top;\n",
       "    }\n",
       "\n",
       "    .dataframe thead th {\n",
       "        text-align: right;\n",
       "    }\n",
       "</style>\n",
       "<table border=\"1\" class=\"dataframe\">\n",
       "  <thead>\n",
       "    <tr style=\"text-align: right;\">\n",
       "      <th></th>\n",
       "      <th>close</th>\n",
       "      <th>volume</th>\n",
       "      <th>ema_short</th>\n",
       "      <th>ema_long</th>\n",
       "      <th>atr</th>\n",
       "      <th>obv</th>\n",
       "      <th>tweet_sentiment</th>\n",
       "      <th>close_nextday</th>\n",
       "    </tr>\n",
       "    <tr>\n",
       "      <th>Date</th>\n",
       "      <th></th>\n",
       "      <th></th>\n",
       "      <th></th>\n",
       "      <th></th>\n",
       "      <th></th>\n",
       "      <th></th>\n",
       "      <th></th>\n",
       "      <th></th>\n",
       "    </tr>\n",
       "  </thead>\n",
       "  <tbody>\n",
       "    <tr>\n",
       "      <th>2019-09-02</th>\n",
       "      <td>10340.00</td>\n",
       "      <td>44740.25</td>\n",
       "      <td>10164.518939</td>\n",
       "      <td>10452.265343</td>\n",
       "      <td>530.693553</td>\n",
       "      <td>225053.863244</td>\n",
       "      <td>-1.0</td>\n",
       "      <td>10615.28</td>\n",
       "    </tr>\n",
       "    <tr>\n",
       "      <th>2019-09-03</th>\n",
       "      <td>10615.28</td>\n",
       "      <td>47998.38</td>\n",
       "      <td>10207.448563</td>\n",
       "      <td>10458.658074</td>\n",
       "      <td>528.572585</td>\n",
       "      <td>273052.240025</td>\n",
       "      <td>0.5</td>\n",
       "      <td>10567.02</td>\n",
       "    </tr>\n",
       "    <tr>\n",
       "      <th>2019-09-04</th>\n",
       "      <td>10567.02</td>\n",
       "      <td>43943.89</td>\n",
       "      <td>10241.693462</td>\n",
       "      <td>10462.907561</td>\n",
       "      <td>521.468114</td>\n",
       "      <td>229108.350999</td>\n",
       "      <td>0.5</td>\n",
       "      <td>10564.49</td>\n",
       "    </tr>\n",
       "    <tr>\n",
       "      <th>2019-09-05</th>\n",
       "      <td>10564.49</td>\n",
       "      <td>33970.96</td>\n",
       "      <td>10272.435990</td>\n",
       "      <td>10466.891187</td>\n",
       "      <td>516.363249</td>\n",
       "      <td>195137.390360</td>\n",
       "      <td>0.5</td>\n",
       "      <td>10298.73</td>\n",
       "    </tr>\n",
       "    <tr>\n",
       "      <th>2019-09-06</th>\n",
       "      <td>10298.73</td>\n",
       "      <td>58799.64</td>\n",
       "      <td>10274.940181</td>\n",
       "      <td>10460.296630</td>\n",
       "      <td>533.470874</td>\n",
       "      <td>136337.749401</td>\n",
       "      <td>0.0</td>\n",
       "      <td>10455.88</td>\n",
       "    </tr>\n",
       "  </tbody>\n",
       "</table>\n",
       "</div>"
      ],
      "text/plain": [
       "               close    volume     ema_short      ema_long         atr  \\\n",
       "Date                                                                     \n",
       "2019-09-02  10340.00  44740.25  10164.518939  10452.265343  530.693553   \n",
       "2019-09-03  10615.28  47998.38  10207.448563  10458.658074  528.572585   \n",
       "2019-09-04  10567.02  43943.89  10241.693462  10462.907561  521.468114   \n",
       "2019-09-05  10564.49  33970.96  10272.435990  10466.891187  516.363249   \n",
       "2019-09-06  10298.73  58799.64  10274.940181  10460.296630  533.470874   \n",
       "\n",
       "                      obv  tweet_sentiment  close_nextday  \n",
       "Date                                                       \n",
       "2019-09-02  225053.863244             -1.0       10615.28  \n",
       "2019-09-03  273052.240025              0.5       10567.02  \n",
       "2019-09-04  229108.350999              0.5       10564.49  \n",
       "2019-09-05  195137.390360              0.5       10298.73  \n",
       "2019-09-06  136337.749401              0.0       10455.88  "
      ]
     },
     "execution_count": 5,
     "metadata": {},
     "output_type": "execute_result"
    }
   ],
   "source": [
    "testing_data.head()"
   ]
  },
  {
   "cell_type": "code",
   "execution_count": 6,
   "metadata": {},
   "outputs": [
    {
     "name": "stdout",
     "output_type": "stream",
     "text": [
      "Training Data:\n",
      "\n",
      "close              0\n",
      "volume             0\n",
      "ema_short          0\n",
      "ema_long           0\n",
      "atr                0\n",
      "obv                0\n",
      "tweet_sentiment    0\n",
      "close_nextday      0\n",
      "dtype: int64\n",
      "\n",
      "Testing Data:\n",
      "\n",
      "close              0\n",
      "volume             0\n",
      "ema_short          0\n",
      "ema_long           0\n",
      "atr                0\n",
      "obv                0\n",
      "tweet_sentiment    0\n",
      "close_nextday      0\n",
      "dtype: int64\n"
     ]
    }
   ],
   "source": [
    "# check for nulls\n",
    "\n",
    "def get_nulls(training, testing):\n",
    "    print(\"Training Data:\\n\")\n",
    "    print(pd.isnull(training).sum())\n",
    "    print(\"\\nTesting Data:\\n\")\n",
    "    print(pd.isnull(testing).sum())\n",
    "\n",
    "\n",
    "get_nulls(training_data, testing_data)"
   ]
  },
  {
   "cell_type": "code",
   "execution_count": 7,
   "metadata": {},
   "outputs": [
    {
     "name": "stdout",
     "output_type": "stream",
     "text": [
      "<class 'pandas.core.frame.DataFrame'>\n",
      "Index: 441 entries, 2019-09-02 to 2020-11-15\n",
      "Data columns (total 8 columns):\n",
      " #   Column           Non-Null Count  Dtype  \n",
      "---  ------           --------------  -----  \n",
      " 0   close            441 non-null    float64\n",
      " 1   volume           441 non-null    float64\n",
      " 2   ema_short        441 non-null    float64\n",
      " 3   ema_long         441 non-null    float64\n",
      " 4   atr              441 non-null    float64\n",
      " 5   obv              441 non-null    float64\n",
      " 6   tweet_sentiment  441 non-null    float64\n",
      " 7   close_nextday    441 non-null    float64\n",
      "dtypes: float64(8)\n",
      "memory usage: 31.0+ KB\n"
     ]
    }
   ],
   "source": [
    "training_data.info()"
   ]
  },
  {
   "cell_type": "code",
   "execution_count": 8,
   "metadata": {},
   "outputs": [
    {
     "data": {
      "text/html": [
       "<div>\n",
       "<style scoped>\n",
       "    .dataframe tbody tr th:only-of-type {\n",
       "        vertical-align: middle;\n",
       "    }\n",
       "\n",
       "    .dataframe tbody tr th {\n",
       "        vertical-align: top;\n",
       "    }\n",
       "\n",
       "    .dataframe thead th {\n",
       "        text-align: right;\n",
       "    }\n",
       "</style>\n",
       "<table border=\"1\" class=\"dataframe\">\n",
       "  <thead>\n",
       "    <tr style=\"text-align: right;\">\n",
       "      <th></th>\n",
       "      <th>close</th>\n",
       "      <th>volume</th>\n",
       "      <th>ema_short</th>\n",
       "      <th>ema_long</th>\n",
       "      <th>atr</th>\n",
       "      <th>obv</th>\n",
       "      <th>tweet_sentiment</th>\n",
       "      <th>close_nextday</th>\n",
       "    </tr>\n",
       "  </thead>\n",
       "  <tbody>\n",
       "    <tr>\n",
       "      <th>count</th>\n",
       "      <td>441.000000</td>\n",
       "      <td>441.000000</td>\n",
       "      <td>441.000000</td>\n",
       "      <td>441.000000</td>\n",
       "      <td>441.000000</td>\n",
       "      <td>4.410000e+02</td>\n",
       "      <td>441.000000</td>\n",
       "      <td>441.000000</td>\n",
       "    </tr>\n",
       "    <tr>\n",
       "      <th>mean</th>\n",
       "      <td>9367.309637</td>\n",
       "      <td>61479.753197</td>\n",
       "      <td>9265.640563</td>\n",
       "      <td>9203.538147</td>\n",
       "      <td>426.315867</td>\n",
       "      <td>4.718351e+05</td>\n",
       "      <td>0.270721</td>\n",
       "      <td>9381.762177</td>\n",
       "    </tr>\n",
       "    <tr>\n",
       "      <th>std</th>\n",
       "      <td>1965.929255</td>\n",
       "      <td>37995.927925</td>\n",
       "      <td>1642.070648</td>\n",
       "      <td>1349.464524</td>\n",
       "      <td>113.156105</td>\n",
       "      <td>7.550549e+05</td>\n",
       "      <td>0.663297</td>\n",
       "      <td>1996.289483</td>\n",
       "    </tr>\n",
       "    <tr>\n",
       "      <th>min</th>\n",
       "      <td>4800.000000</td>\n",
       "      <td>16792.390000</td>\n",
       "      <td>6513.642937</td>\n",
       "      <td>7124.245966</td>\n",
       "      <td>195.624666</td>\n",
       "      <td>-6.761706e+05</td>\n",
       "      <td>-1.000000</td>\n",
       "      <td>4800.000000</td>\n",
       "    </tr>\n",
       "    <tr>\n",
       "      <th>25%</th>\n",
       "      <td>8063.730000</td>\n",
       "      <td>38440.040000</td>\n",
       "      <td>8163.952945</td>\n",
       "      <td>8126.772823</td>\n",
       "      <td>346.867468</td>\n",
       "      <td>-2.000381e+05</td>\n",
       "      <td>0.000000</td>\n",
       "      <td>8063.730000</td>\n",
       "    </tr>\n",
       "    <tr>\n",
       "      <th>50%</th>\n",
       "      <td>9242.620000</td>\n",
       "      <td>52202.070000</td>\n",
       "      <td>9206.972061</td>\n",
       "      <td>9072.751708</td>\n",
       "      <td>414.048363</td>\n",
       "      <td>3.548013e+05</td>\n",
       "      <td>0.000000</td>\n",
       "      <td>9242.620000</td>\n",
       "    </tr>\n",
       "    <tr>\n",
       "      <th>75%</th>\n",
       "      <td>10344.360000</td>\n",
       "      <td>71155.210000</td>\n",
       "      <td>10292.172545</td>\n",
       "      <td>10399.440662</td>\n",
       "      <td>483.341991</td>\n",
       "      <td>1.119035e+06</td>\n",
       "      <td>1.000000</td>\n",
       "      <td>10373.440000</td>\n",
       "    </tr>\n",
       "    <tr>\n",
       "      <th>max</th>\n",
       "      <td>16320.700000</td>\n",
       "      <td>402201.670000</td>\n",
       "      <td>14865.632684</td>\n",
       "      <td>13404.734432</td>\n",
       "      <td>789.483745</td>\n",
       "      <td>2.205415e+06</td>\n",
       "      <td>1.000000</td>\n",
       "      <td>16713.570000</td>\n",
       "    </tr>\n",
       "  </tbody>\n",
       "</table>\n",
       "</div>"
      ],
      "text/plain": [
       "              close         volume     ema_short      ema_long         atr  \\\n",
       "count    441.000000     441.000000    441.000000    441.000000  441.000000   \n",
       "mean    9367.309637   61479.753197   9265.640563   9203.538147  426.315867   \n",
       "std     1965.929255   37995.927925   1642.070648   1349.464524  113.156105   \n",
       "min     4800.000000   16792.390000   6513.642937   7124.245966  195.624666   \n",
       "25%     8063.730000   38440.040000   8163.952945   8126.772823  346.867468   \n",
       "50%     9242.620000   52202.070000   9206.972061   9072.751708  414.048363   \n",
       "75%    10344.360000   71155.210000  10292.172545  10399.440662  483.341991   \n",
       "max    16320.700000  402201.670000  14865.632684  13404.734432  789.483745   \n",
       "\n",
       "                obv  tweet_sentiment  close_nextday  \n",
       "count  4.410000e+02       441.000000     441.000000  \n",
       "mean   4.718351e+05         0.270721    9381.762177  \n",
       "std    7.550549e+05         0.663297    1996.289483  \n",
       "min   -6.761706e+05        -1.000000    4800.000000  \n",
       "25%   -2.000381e+05         0.000000    8063.730000  \n",
       "50%    3.548013e+05         0.000000    9242.620000  \n",
       "75%    1.119035e+06         1.000000   10373.440000  \n",
       "max    2.205415e+06         1.000000   16713.570000  "
      ]
     },
     "execution_count": 8,
     "metadata": {},
     "output_type": "execute_result"
    }
   ],
   "source": [
    "training_data.describe()"
   ]
  },
  {
   "cell_type": "code",
   "execution_count": 9,
   "metadata": {},
   "outputs": [
    {
     "name": "stdout",
     "output_type": "stream",
     "text": [
      "(441, 8)\n"
     ]
    },
    {
     "data": {
      "text/plain": [
       "(441, 8)"
      ]
     },
     "execution_count": 9,
     "metadata": {},
     "output_type": "execute_result"
    }
   ],
   "source": [
    "print(training_data.shape)\n",
    "testing_data.shape"
   ]
  },
  {
   "cell_type": "markdown",
   "metadata": {},
   "source": [
    "### Scaling the dataframe"
   ]
  },
  {
   "cell_type": "code",
   "execution_count": 25,
   "metadata": {},
   "outputs": [],
   "source": [
    "close_train = np.array(training_data[\"close\"]).reshape(-1, 1)\n",
    "volume_train = np.array(training_data[\"volume\"]).reshape(-1, 1)\n",
    "ema_short_train = np.array(training_data[\"ema_short\"]).reshape(-1, 1)\n",
    "ema_long_train = np.array(training_data[\"ema_long\"]).reshape(-1, 1)\n",
    "atr_train = np.array(training_data[\"atr\"]).reshape(-1, 1)\n",
    "obv_train = np.array(training_data[\"obv\"]).reshape(-1, 1)\n",
    "tweet_sentiment_train = np.array(training_data[\"tweet_sentiment\"]).reshape(\n",
    "    -1, 1)\n",
    "close_nextday_train = np.array(training_data[\"close_nextday\"]).reshape(-1, 1)\n",
    "\n",
    "close_test = np.array(testing_data[\"close\"]).reshape(-1, 1)\n",
    "volume_test = np.array(testing_data[\"volume\"]).reshape(-1, 1)\n",
    "ema_short_test = np.array(testing_data[\"ema_short\"]).reshape(-1, 1)\n",
    "ema_long_test = np.array(testing_data[\"ema_long\"]).reshape(-1, 1)\n",
    "atr_test = np.array(testing_data[\"atr\"]).reshape(-1, 1)\n",
    "obv_test = np.array(testing_data[\"obv\"]).reshape(-1, 1)\n",
    "tweet_sentiment_test = np.array(testing_data[\"tweet_sentiment\"]).reshape(-1, 1)\n",
    "close_nextday_test = np.array(testing_data[\"close_nextday\"]).reshape(-1, 1)"
   ]
  },
  {
   "cell_type": "code",
   "execution_count": 26,
   "metadata": {},
   "outputs": [],
   "source": [
    "scaler = StandardScaler()"
   ]
  },
  {
   "cell_type": "code",
   "execution_count": 27,
   "metadata": {},
   "outputs": [],
   "source": [
    "training_data[\"close\"] = scaler.fit_transform(close_train)\n",
    "training_data[\"volume\"] = scaler.fit_transform(volume_train)\n",
    "training_data[\"ema_short\"] = scaler.fit_transform(ema_short_train)\n",
    "training_data[\"ema_long\"] = scaler.fit_transform(ema_long_train)\n",
    "training_data[\"atr\"] = scaler.fit_transform(atr_train)\n",
    "training_data[\"obv\"] = scaler.fit_transform(obv_train)\n",
    "training_data[\"tweet_sentiment\"] = scaler.fit_transform(tweet_sentiment_train)\n",
    "training_data[\"close_nextday\"] = scaler.fit_transform(close_nextday_train)\n",
    "\n",
    "testing_data[\"close\"] = scaler.fit_transform(close_test)\n",
    "testing_data[\"volume\"] = scaler.fit_transform(volume_test)\n",
    "testing_data[\"ema_short\"] = scaler.fit_transform(ema_short_test)\n",
    "testing_data[\"ema_long\"] = scaler.fit_transform(ema_long_test)\n",
    "testing_data[\"atr\"] = scaler.fit_transform(atr_test)\n",
    "testing_data[\"obv\"] = scaler.fit_transform(obv_test)\n",
    "testing_data[\"tweet_sentiment\"] = scaler.fit_transform(tweet_sentiment_test)\n",
    "testing_data[\"close_nextday\"] = scaler.fit_transform(close_nextday_test)"
   ]
  },
  {
   "cell_type": "markdown",
   "metadata": {},
   "source": [
    "### Dataframe split (training and testing)"
   ]
  },
  {
   "cell_type": "code",
   "execution_count": 28,
   "metadata": {},
   "outputs": [
    {
     "name": "stdout",
     "output_type": "stream",
     "text": [
      "            const     close    volume  ema_short  ema_long       atr  \\\n",
      "Date                                                                   \n",
      "2019-09-02    1.0  0.495336 -0.441061   0.548027  0.926401  0.923470   \n",
      "2019-09-03    1.0  0.635520 -0.355214   0.574200  0.931144  0.904705   \n",
      "2019-09-04    1.0  0.610944 -0.462044   0.595079  0.934296  0.841849   \n",
      "2019-09-05    1.0  0.609656 -0.724815   0.613822  0.937252  0.796684   \n",
      "2019-09-06    1.0  0.474319 -0.070617   0.615349  0.932359  0.948042   \n",
      "\n",
      "                 obv  tweet_sentiment  \n",
      "Date                                   \n",
      "2019-09-02 -0.327210        -1.917941  \n",
      "2019-09-03 -0.263568         0.346058  \n",
      "2019-09-04 -0.321834         0.346058  \n",
      "2019-09-05 -0.366877         0.346058  \n",
      "2019-09-06 -0.444840        -0.408608  \n"
     ]
    }
   ],
   "source": [
    "X_features = training_data.drop(labels=['close_nextday'], axis=1)\n",
    "y_labels = training_data['close_nextday']\n",
    "\n",
    "X_features = sm.add_constant(X_features)\n",
    "\n",
    "print(X_features.head(5))"
   ]
  },
  {
   "cell_type": "code",
   "execution_count": 29,
   "metadata": {},
   "outputs": [],
   "source": [
    "X_train, X_test, y_train, y_test = train_test_split(X_features,\n",
    "                                                    y_labels,\n",
    "                                                    test_size=0.25,\n",
    "                                                    random_state=42)"
   ]
  },
  {
   "cell_type": "markdown",
   "metadata": {},
   "source": [
    "#### Multiple Linear Regression Using OLS (Ordinary Least Squares)"
   ]
  },
  {
   "cell_type": "code",
   "execution_count": 30,
   "metadata": {},
   "outputs": [],
   "source": [
    "lr = sm.OLS(y_train, X_train)\n",
    "\n",
    "results = lr.fit()"
   ]
  },
  {
   "cell_type": "code",
   "execution_count": 31,
   "metadata": {},
   "outputs": [
    {
     "data": {
      "text/html": [
       "<table class=\"simpletable\">\n",
       "<caption>OLS Regression Results</caption>\n",
       "<tr>\n",
       "  <th>Dep. Variable:</th>      <td>close_nextday</td>  <th>  R-squared:         </th> <td>   0.971</td> \n",
       "</tr>\n",
       "<tr>\n",
       "  <th>Model:</th>                   <td>OLS</td>       <th>  Adj. R-squared:    </th> <td>   0.970</td> \n",
       "</tr>\n",
       "<tr>\n",
       "  <th>Method:</th>             <td>Least Squares</td>  <th>  F-statistic:       </th> <td>   1518.</td> \n",
       "</tr>\n",
       "<tr>\n",
       "  <th>Date:</th>             <td>Wed, 23 Dec 2020</td> <th>  Prob (F-statistic):</th> <td>2.57e-242</td>\n",
       "</tr>\n",
       "<tr>\n",
       "  <th>Time:</th>                 <td>16:26:05</td>     <th>  Log-Likelihood:    </th> <td>  117.88</td> \n",
       "</tr>\n",
       "<tr>\n",
       "  <th>No. Observations:</th>      <td>   330</td>      <th>  AIC:               </th> <td>  -219.8</td> \n",
       "</tr>\n",
       "<tr>\n",
       "  <th>Df Residuals:</th>          <td>   322</td>      <th>  BIC:               </th> <td>  -189.4</td> \n",
       "</tr>\n",
       "<tr>\n",
       "  <th>Df Model:</th>              <td>     7</td>      <th>                     </th>     <td> </td>    \n",
       "</tr>\n",
       "<tr>\n",
       "  <th>Covariance Type:</th>      <td>nonrobust</td>    <th>                     </th>     <td> </td>    \n",
       "</tr>\n",
       "</table>\n",
       "<table class=\"simpletable\">\n",
       "<tr>\n",
       "         <td></td>            <th>coef</th>     <th>std err</th>      <th>t</th>      <th>P>|t|</th>  <th>[0.025</th>    <th>0.975]</th>  \n",
       "</tr>\n",
       "<tr>\n",
       "  <th>const</th>           <td>   -0.0002</td> <td>    0.009</td> <td>   -0.017</td> <td> 0.987</td> <td>   -0.019</td> <td>    0.018</td>\n",
       "</tr>\n",
       "<tr>\n",
       "  <th>close</th>           <td>    0.9993</td> <td>    0.038</td> <td>   26.038</td> <td> 0.000</td> <td>    0.924</td> <td>    1.075</td>\n",
       "</tr>\n",
       "<tr>\n",
       "  <th>volume</th>          <td>   -0.0087</td> <td>    0.012</td> <td>   -0.737</td> <td> 0.461</td> <td>   -0.032</td> <td>    0.014</td>\n",
       "</tr>\n",
       "<tr>\n",
       "  <th>ema_short</th>       <td>   -0.0537</td> <td>    0.067</td> <td>   -0.804</td> <td> 0.422</td> <td>   -0.185</td> <td>    0.078</td>\n",
       "</tr>\n",
       "<tr>\n",
       "  <th>ema_long</th>        <td>    0.0172</td> <td>    0.043</td> <td>    0.400</td> <td> 0.689</td> <td>   -0.067</td> <td>    0.102</td>\n",
       "</tr>\n",
       "<tr>\n",
       "  <th>atr</th>             <td>    0.0041</td> <td>    0.011</td> <td>    0.359</td> <td> 0.720</td> <td>   -0.018</td> <td>    0.027</td>\n",
       "</tr>\n",
       "<tr>\n",
       "  <th>obv</th>             <td>    0.0321</td> <td>    0.016</td> <td>    2.037</td> <td> 0.042</td> <td>    0.001</td> <td>    0.063</td>\n",
       "</tr>\n",
       "<tr>\n",
       "  <th>tweet_sentiment</th> <td>    0.0054</td> <td>    0.010</td> <td>    0.553</td> <td> 0.581</td> <td>   -0.014</td> <td>    0.024</td>\n",
       "</tr>\n",
       "</table>\n",
       "<table class=\"simpletable\">\n",
       "<tr>\n",
       "  <th>Omnibus:</th>       <td>210.031</td> <th>  Durbin-Watson:     </th> <td>   2.060</td>\n",
       "</tr>\n",
       "<tr>\n",
       "  <th>Prob(Omnibus):</th> <td> 0.000</td>  <th>  Jarque-Bera (JB):  </th> <td>6861.452</td>\n",
       "</tr>\n",
       "<tr>\n",
       "  <th>Skew:</th>          <td>-2.059</td>  <th>  Prob(JB):          </th> <td>    0.00</td>\n",
       "</tr>\n",
       "<tr>\n",
       "  <th>Kurtosis:</th>      <td>24.956</td>  <th>  Cond. No.          </th> <td>    16.4</td>\n",
       "</tr>\n",
       "</table><br/><br/>Notes:<br/>[1] Standard Errors assume that the covariance matrix of the errors is correctly specified."
      ],
      "text/plain": [
       "<class 'statsmodels.iolib.summary.Summary'>\n",
       "\"\"\"\n",
       "                            OLS Regression Results                            \n",
       "==============================================================================\n",
       "Dep. Variable:          close_nextday   R-squared:                       0.971\n",
       "Model:                            OLS   Adj. R-squared:                  0.970\n",
       "Method:                 Least Squares   F-statistic:                     1518.\n",
       "Date:                Wed, 23 Dec 2020   Prob (F-statistic):          2.57e-242\n",
       "Time:                        16:26:05   Log-Likelihood:                 117.88\n",
       "No. Observations:                 330   AIC:                            -219.8\n",
       "Df Residuals:                     322   BIC:                            -189.4\n",
       "Df Model:                           7                                         \n",
       "Covariance Type:            nonrobust                                         \n",
       "===================================================================================\n",
       "                      coef    std err          t      P>|t|      [0.025      0.975]\n",
       "-----------------------------------------------------------------------------------\n",
       "const              -0.0002      0.009     -0.017      0.987      -0.019       0.018\n",
       "close               0.9993      0.038     26.038      0.000       0.924       1.075\n",
       "volume             -0.0087      0.012     -0.737      0.461      -0.032       0.014\n",
       "ema_short          -0.0537      0.067     -0.804      0.422      -0.185       0.078\n",
       "ema_long            0.0172      0.043      0.400      0.689      -0.067       0.102\n",
       "atr                 0.0041      0.011      0.359      0.720      -0.018       0.027\n",
       "obv                 0.0321      0.016      2.037      0.042       0.001       0.063\n",
       "tweet_sentiment     0.0054      0.010      0.553      0.581      -0.014       0.024\n",
       "==============================================================================\n",
       "Omnibus:                      210.031   Durbin-Watson:                   2.060\n",
       "Prob(Omnibus):                  0.000   Jarque-Bera (JB):             6861.452\n",
       "Skew:                          -2.059   Prob(JB):                         0.00\n",
       "Kurtosis:                      24.956   Cond. No.                         16.4\n",
       "==============================================================================\n",
       "\n",
       "Notes:\n",
       "[1] Standard Errors assume that the covariance matrix of the errors is correctly specified.\n",
       "\"\"\""
      ]
     },
     "execution_count": 31,
     "metadata": {},
     "output_type": "execute_result"
    }
   ],
   "source": [
    "results.summary()"
   ]
  },
  {
   "cell_type": "code",
   "execution_count": 32,
   "metadata": {},
   "outputs": [],
   "source": [
    "y_pred = results.predict(X_test)"
   ]
  },
  {
   "cell_type": "code",
   "execution_count": 33,
   "metadata": {},
   "outputs": [
    {
     "data": {
      "image/png": "[encoded data removed]",
      "text/plain": [
       "<Figure size 432x288 with 1 Axes>"
      ]
     },
     "metadata": {
      "needs_background": "light"
     },
     "output_type": "display_data"
    }
   ],
   "source": [
    "_ = plt.scatter(y_test,y_pred)\n",
    "_ = plt.plot([x for x in range(-3,6)], [y for y in range(-3,6)], color='red')\n",
    "\n",
    "_ = plt.title('Model Prediction vs Actual')\n",
    "_ = plt.xlabel('actual values')\n",
    "_ = plt.ylabel('predicted values')"
   ]
  },
  {
   "cell_type": "code",
   "execution_count": 34,
   "metadata": {},
   "outputs": [],
   "source": [
    "def rmse(predictions, targets):\n",
    "    return np.sqrt(((predictions-targets)**2).mean())"
   ]
  },
  {
   "cell_type": "code",
   "execution_count": 35,
   "metadata": {},
   "outputs": [
    {
     "name": "stdout",
     "output_type": "stream",
     "text": [
      "RMSE: 0.13827548188014074\n"
     ]
    }
   ],
   "source": [
    "df01 = pd.DataFrame(y_test)\n",
    "df01.rename(columns={'close_nextday':'actual'}, inplace=True)\n",
    "df01['predicted'] = y_pred\n",
    "\n",
    "print('RMSE:', rmse(df01.actual, df01.predicted))"
   ]
  },
  {
   "cell_type": "markdown",
   "metadata": {},
   "source": [
    "#### Avoiding redundancy in linear regression models\n",
    "\n",
    "Since the feature \"close\" is already found to be correlated with our prediction of \"close_nextday\" (from heatmap EDA stage), we can remove \"close\" to see how disposable it really is in relation to the model."
   ]
  },
  {
   "cell_type": "code",
   "execution_count": 36,
   "metadata": {},
   "outputs": [
    {
     "name": "stdout",
     "output_type": "stream",
     "text": [
      "            const    volume  ema_short  ema_long       atr       obv  \\\n",
      "Date                                                                   \n",
      "2019-09-02    1.0 -0.441061   0.548027  0.926401  0.923470 -0.327210   \n",
      "2019-09-03    1.0 -0.355214   0.574200  0.931144  0.904705 -0.263568   \n",
      "2019-09-04    1.0 -0.462044   0.595079  0.934296  0.841849 -0.321834   \n",
      "2019-09-05    1.0 -0.724815   0.613822  0.937252  0.796684 -0.366877   \n",
      "2019-09-06    1.0 -0.070617   0.615349  0.932359  0.948042 -0.444840   \n",
      "\n",
      "            tweet_sentiment  \n",
      "Date                         \n",
      "2019-09-02        -1.917941  \n",
      "2019-09-03         0.346058  \n",
      "2019-09-04         0.346058  \n",
      "2019-09-05         0.346058  \n",
      "2019-09-06        -0.408608  \n"
     ]
    }
   ],
   "source": [
    "X2_features = training_data.drop(labels=['close_nextday', 'close'], axis=1)\n",
    "y2_labels = training_data['close_nextday']\n",
    "\n",
    "X2_features = sm.add_constant(X2_features)\n",
    "\n",
    "print(X2_features.head(5))"
   ]
  },
  {
   "cell_type": "code",
   "execution_count": 37,
   "metadata": {},
   "outputs": [],
   "source": [
    "X2_train, X2_test, y2_train, y2_test = train_test_split(X2_features,\n",
    "                                                    y2_labels,\n",
    "                                                    test_size=0.25,\n",
    "                                                    random_state=42)"
   ]
  },
  {
   "cell_type": "code",
   "execution_count": 38,
   "metadata": {},
   "outputs": [
    {
     "data": {
      "text/html": [
       "<table class=\"simpletable\">\n",
       "<caption>OLS Regression Results</caption>\n",
       "<tr>\n",
       "  <th>Dep. Variable:</th>      <td>close_nextday</td>  <th>  R-squared:         </th> <td>   0.909</td> \n",
       "</tr>\n",
       "<tr>\n",
       "  <th>Model:</th>                   <td>OLS</td>       <th>  Adj. R-squared:    </th> <td>   0.907</td> \n",
       "</tr>\n",
       "<tr>\n",
       "  <th>Method:</th>             <td>Least Squares</td>  <th>  F-statistic:       </th> <td>   535.5</td> \n",
       "</tr>\n",
       "<tr>\n",
       "  <th>Date:</th>             <td>Wed, 23 Dec 2020</td> <th>  Prob (F-statistic):</th> <td>1.54e-164</td>\n",
       "</tr>\n",
       "<tr>\n",
       "  <th>Time:</th>                 <td>16:26:14</td>     <th>  Log-Likelihood:    </th> <td> -69.087</td> \n",
       "</tr>\n",
       "<tr>\n",
       "  <th>No. Observations:</th>      <td>   330</td>      <th>  AIC:               </th> <td>   152.2</td> \n",
       "</tr>\n",
       "<tr>\n",
       "  <th>Df Residuals:</th>          <td>   323</td>      <th>  BIC:               </th> <td>   178.8</td> \n",
       "</tr>\n",
       "<tr>\n",
       "  <th>Df Model:</th>              <td>     6</td>      <th>                     </th>     <td> </td>    \n",
       "</tr>\n",
       "<tr>\n",
       "  <th>Covariance Type:</th>      <td>nonrobust</td>    <th>                     </th>     <td> </td>    \n",
       "</tr>\n",
       "</table>\n",
       "<table class=\"simpletable\">\n",
       "<tr>\n",
       "         <td></td>            <th>coef</th>     <th>std err</th>      <th>t</th>      <th>P>|t|</th>  <th>[0.025</th>    <th>0.975]</th>  \n",
       "</tr>\n",
       "<tr>\n",
       "  <th>const</th>           <td>    0.0050</td> <td>    0.017</td> <td>    0.302</td> <td> 0.763</td> <td>   -0.028</td> <td>    0.038</td>\n",
       "</tr>\n",
       "<tr>\n",
       "  <th>volume</th>          <td>   -0.0362</td> <td>    0.021</td> <td>   -1.760</td> <td> 0.079</td> <td>   -0.077</td> <td>    0.004</td>\n",
       "</tr>\n",
       "<tr>\n",
       "  <th>ema_short</th>       <td>    1.3588</td> <td>    0.069</td> <td>   19.769</td> <td> 0.000</td> <td>    1.224</td> <td>    1.494</td>\n",
       "</tr>\n",
       "<tr>\n",
       "  <th>ema_long</th>        <td>   -0.5794</td> <td>    0.064</td> <td>   -9.043</td> <td> 0.000</td> <td>   -0.705</td> <td>   -0.453</td>\n",
       "</tr>\n",
       "<tr>\n",
       "  <th>atr</th>             <td>   -0.0035</td> <td>    0.020</td> <td>   -0.173</td> <td> 0.863</td> <td>   -0.043</td> <td>    0.036</td>\n",
       "</tr>\n",
       "<tr>\n",
       "  <th>obv</th>             <td>    0.1640</td> <td>    0.026</td> <td>    6.246</td> <td> 0.000</td> <td>    0.112</td> <td>    0.216</td>\n",
       "</tr>\n",
       "<tr>\n",
       "  <th>tweet_sentiment</th> <td>   -0.0192</td> <td>    0.017</td> <td>   -1.132</td> <td> 0.258</td> <td>   -0.053</td> <td>    0.014</td>\n",
       "</tr>\n",
       "</table>\n",
       "<table class=\"simpletable\">\n",
       "<tr>\n",
       "  <th>Omnibus:</th>       <td>50.940</td> <th>  Durbin-Watson:     </th> <td>   1.886</td>\n",
       "</tr>\n",
       "<tr>\n",
       "  <th>Prob(Omnibus):</th> <td> 0.000</td> <th>  Jarque-Bera (JB):  </th> <td> 208.779</td>\n",
       "</tr>\n",
       "<tr>\n",
       "  <th>Skew:</th>          <td>-0.570</td> <th>  Prob(JB):          </th> <td>4.62e-46</td>\n",
       "</tr>\n",
       "<tr>\n",
       "  <th>Kurtosis:</th>      <td> 6.726</td> <th>  Cond. No.          </th> <td>    8.96</td>\n",
       "</tr>\n",
       "</table><br/><br/>Notes:<br/>[1] Standard Errors assume that the covariance matrix of the errors is correctly specified."
      ],
      "text/plain": [
       "<class 'statsmodels.iolib.summary.Summary'>\n",
       "\"\"\"\n",
       "                            OLS Regression Results                            \n",
       "==============================================================================\n",
       "Dep. Variable:          close_nextday   R-squared:                       0.909\n",
       "Model:                            OLS   Adj. R-squared:                  0.907\n",
       "Method:                 Least Squares   F-statistic:                     535.5\n",
       "Date:                Wed, 23 Dec 2020   Prob (F-statistic):          1.54e-164\n",
       "Time:                        16:26:14   Log-Likelihood:                -69.087\n",
       "No. Observations:                 330   AIC:                             152.2\n",
       "Df Residuals:                     323   BIC:                             178.8\n",
       "Df Model:                           6                                         \n",
       "Covariance Type:            nonrobust                                         \n",
       "===================================================================================\n",
       "                      coef    std err          t      P>|t|      [0.025      0.975]\n",
       "-----------------------------------------------------------------------------------\n",
       "const               0.0050      0.017      0.302      0.763      -0.028       0.038\n",
       "volume             -0.0362      0.021     -1.760      0.079      -0.077       0.004\n",
       "ema_short           1.3588      0.069     19.769      0.000       1.224       1.494\n",
       "ema_long           -0.5794      0.064     -9.043      0.000      -0.705      -0.453\n",
       "atr                -0.0035      0.020     -0.173      0.863      -0.043       0.036\n",
       "obv                 0.1640      0.026      6.246      0.000       0.112       0.216\n",
       "tweet_sentiment    -0.0192      0.017     -1.132      0.258      -0.053       0.014\n",
       "==============================================================================\n",
       "Omnibus:                       50.940   Durbin-Watson:                   1.886\n",
       "Prob(Omnibus):                  0.000   Jarque-Bera (JB):              208.779\n",
       "Skew:                          -0.570   Prob(JB):                     4.62e-46\n",
       "Kurtosis:                       6.726   Cond. No.                         8.96\n",
       "==============================================================================\n",
       "\n",
       "Notes:\n",
       "[1] Standard Errors assume that the covariance matrix of the errors is correctly specified.\n",
       "\"\"\""
      ]
     },
     "execution_count": 38,
     "metadata": {},
     "output_type": "execute_result"
    }
   ],
   "source": [
    "lr2 = sm.OLS(y2_train, X2_train)\n",
    "\n",
    "results2 = lr2.fit()\n",
    "results2.summary()"
   ]
  },
  {
   "cell_type": "code",
   "execution_count": 39,
   "metadata": {},
   "outputs": [],
   "source": [
    "y2_pred = results2.predict(X2_test)"
   ]
  },
  {
   "cell_type": "code",
   "execution_count": 40,
   "metadata": {},
   "outputs": [
    {
     "data": {
      "image/png": "[encoded data removed]",
      "text/plain": [
       "<Figure size 432x288 with 1 Axes>"
      ]
     },
     "metadata": {
      "needs_background": "light"
     },
     "output_type": "display_data"
    }
   ],
   "source": [
    "_ = plt.scatter(y2_test,y2_pred)\n",
    "_ = plt.plot([x for x in range(-3,6)], [y for y in range(-3,6)], color='red')\n",
    "\n",
    "_ = plt.title('Model 2 Prediction vs Actual')\n",
    "_ = plt.xlabel('actual values')\n",
    "_ = plt.ylabel('predicted values')"
   ]
  },
  {
   "cell_type": "code",
   "execution_count": 41,
   "metadata": {},
   "outputs": [
    {
     "name": "stdout",
     "output_type": "stream",
     "text": [
      "RMSE: 0.2883480741527478\n"
     ]
    }
   ],
   "source": [
    "df02 = pd.DataFrame(y2_test)\n",
    "df02.rename(columns={'close_nextday':'actual'}, inplace=True)\n",
    "df02['predicted'] = y2_pred\n",
    "\n",
    "print('RMSE:', rmse(df02.actual, df02.predicted))"
   ]
  },
  {
   "cell_type": "markdown",
   "metadata": {},
   "source": [
    "### Voting Classifier (Incomplete)"
   ]
  },
  {
   "cell_type": "code",
   "execution_count": 42,
   "metadata": {},
   "outputs": [],
   "source": [
    "X3_features = training_data.drop(labels=['close_nextday'], axis=1)\n",
    "y3_labels = training_data['close_nextday']"
   ]
  },
  {
   "cell_type": "code",
   "execution_count": 43,
   "metadata": {},
   "outputs": [],
   "source": [
    "X3_train, X3_test, y3_train, y3_test = train_test_split(X3_features,\n",
    "                                                    y3_labels,\n",
    "                                                    test_size=0.25,\n",
    "                                                    random_state=42)"
   ]
  },
  {
   "cell_type": "code",
   "execution_count": 44,
   "metadata": {},
   "outputs": [
    {
     "name": "stdout",
     "output_type": "stream",
     "text": [
      "[232 237 239 225 120 172  32 153 177  65 327  11  99 204 161 202  83 227\n",
      " 258  36 249 287  45  42 321 315 269 276 175 131 265 113 195  13   1 206\n",
      "  34 313 109 250 263 124  30 322 267 102 304 257  38 295 154   2 300 218\n",
      " 279 105 301 166 107 111 185 273 259 132 164  54   7  15 241 151 143 222\n",
      " 180 129 142 245 280  31  53 316 312 213 314 171 325  18  10   3  59  66\n",
      " 236 305 181 254  37 119 140  58 198  68 101 272 159  27  56 189 141  85\n",
      " 106  97  57 226  12 122 125  72 199 144 251 260 311 196  74 136 289 135\n",
      "  22  46  61 247  51 282 228 220 274 303 121 118 298 318 165  90  93 178\n",
      " 244 147  48 104 286 139 184 320 148  63 261 246 137   4 214  33  47  41\n",
      "  24 293 167  84 309  35 224 126 152  86 290 162 190  67 138 133 230 240\n",
      "  88  96 201 100 299 149  25  64  60 110 266 277 114  98 306   9 170 219\n",
      " 284 252 182 256  40  29 243  16 207  44 173  19 158  92  87 160   6 264\n",
      "  95 288  21 192 191 242 248 115 186 116  75 231 211 179 157 233 215  94\n",
      " 283 297  55 217 268 296  71   8  20 174 271 108 324 278 146 310 187   5\n",
      " 235  79  39  78 188 216  14 163 255 319  80  49  17  89 156 229  52 292\n",
      " 112 302 117 130 238 168  70 262 194 223 270 323 128 145 317 155 134 197\n",
      " 294  62 205  76 328  82 200 150  91 291  69 127 103 176 221 203   0 253\n",
      " 209 307 285 208 169 193  81 183 281  43 234  73 275  23  26 329 212  77\n",
      " 123  50 210 308 326  28]\n",
      "continuous\n",
      "multiclass\n",
      "multiclass\n"
     ]
    }
   ],
   "source": [
    "from sklearn import utils\n",
    "\n",
    "lab_enc3 = preprocessing.LabelEncoder()\n",
    "training_scores_encoded3 = lab_enc3.fit_transform(y3_train)\n",
    "print(training_scores_encoded3)\n",
    "print(utils.multiclass.type_of_target(y3_train))\n",
    "print(utils.multiclass.type_of_target(y3_train.astype('int')))\n",
    "print(utils.multiclass.type_of_target(training_scores_encoded3))"
   ]
  },
  {
   "cell_type": "code",
   "execution_count": 45,
   "metadata": {},
   "outputs": [
    {
     "name": "stdout",
     "output_type": "stream",
     "text": [
      "[ 25 109  58  72  87  85  21  17  96  91  92  27  15  14  36   3  38  48\n",
      "  39  45  84  88  35  69 110  66 100   4  32  70 101  43  11  53  51 103\n",
      "  12  79  50  89  40  18  26   6  73  33  22 107  47  20  77  57 102  76\n",
      "  54  67  86  75  60  61  62  97  63   0  55   8 106  82  34  44  90  71\n",
      "  30   1  13  94  74  29  64  37  24 105  65 108  46  49 104  31  78  41\n",
      "  98  42  28  10  52  56  19   5   7  81  16  59  99  83  23   9   2  93\n",
      "  68  80  95]\n",
      "continuous\n",
      "multiclass\n",
      "multiclass\n"
     ]
    }
   ],
   "source": [
    "lab_enc4 = preprocessing.LabelEncoder()\n",
    "training_scores_encoded4 = lab_enc4.fit_transform(y3_test)\n",
    "print(training_scores_encoded4)\n",
    "print(utils.multiclass.type_of_target(y3_test))\n",
    "print(utils.multiclass.type_of_target(y3_test.astype('int')))\n",
    "print(utils.multiclass.type_of_target(training_scores_encoded4))"
   ]
  },
  {
   "cell_type": "code",
   "execution_count": 46,
   "metadata": {},
   "outputs": [],
   "source": [
    "vot_clf = VotingClassifier(estimators=[('lr', lr),\n",
    "                                       ('lr2', lr2)],\n",
    "                           voting='hard')"
   ]
  },
  {
   "cell_type": "code",
   "execution_count": 49,
   "metadata": {},
   "outputs": [
    {
     "ename": "ValueError",
     "evalue": "Unknown label type: 'continuous'",
     "output_type": "error",
     "traceback": [
      "\u001b[1;31m---------------------------------------------------------------------------\u001b[0m",
      "\u001b[1;31mValueError\u001b[0m                                Traceback (most recent call last)",
      "\u001b[1;32m<ipython-input-49-255bb264ac20>\u001b[0m in \u001b[0;36m<module>\u001b[1;34m\u001b[0m\n\u001b[1;32m----> 1\u001b[1;33m \u001b[0mvot_clf\u001b[0m\u001b[1;33m.\u001b[0m\u001b[0mfit\u001b[0m\u001b[1;33m(\u001b[0m\u001b[0mX3_train\u001b[0m\u001b[1;33m,\u001b[0m \u001b[0my3_train\u001b[0m\u001b[1;33m)\u001b[0m\u001b[1;33m\u001b[0m\u001b[1;33m\u001b[0m\u001b[0m\n\u001b[0m",
      "\u001b[1;32m~\\anaconda3\\lib\\site-packages\\sklearn\\ensemble\\_voting.py\u001b[0m in \u001b[0;36mfit\u001b[1;34m(self, X, y, sample_weight)\u001b[0m\n\u001b[0;32m    250\u001b[0m \u001b[1;33m\u001b[0m\u001b[0m\n\u001b[0;32m    251\u001b[0m         \"\"\"\n\u001b[1;32m--> 252\u001b[1;33m         \u001b[0mcheck_classification_targets\u001b[0m\u001b[1;33m(\u001b[0m\u001b[0my\u001b[0m\u001b[1;33m)\u001b[0m\u001b[1;33m\u001b[0m\u001b[1;33m\u001b[0m\u001b[0m\n\u001b[0m\u001b[0;32m    253\u001b[0m         \u001b[1;32mif\u001b[0m \u001b[0misinstance\u001b[0m\u001b[1;33m(\u001b[0m\u001b[0my\u001b[0m\u001b[1;33m,\u001b[0m \u001b[0mnp\u001b[0m\u001b[1;33m.\u001b[0m\u001b[0mndarray\u001b[0m\u001b[1;33m)\u001b[0m \u001b[1;32mand\u001b[0m \u001b[0mlen\u001b[0m\u001b[1;33m(\u001b[0m\u001b[0my\u001b[0m\u001b[1;33m.\u001b[0m\u001b[0mshape\u001b[0m\u001b[1;33m)\u001b[0m \u001b[1;33m>\u001b[0m \u001b[1;36m1\u001b[0m \u001b[1;32mand\u001b[0m \u001b[0my\u001b[0m\u001b[1;33m.\u001b[0m\u001b[0mshape\u001b[0m\u001b[1;33m[\u001b[0m\u001b[1;36m1\u001b[0m\u001b[1;33m]\u001b[0m \u001b[1;33m>\u001b[0m \u001b[1;36m1\u001b[0m\u001b[1;33m:\u001b[0m\u001b[1;33m\u001b[0m\u001b[1;33m\u001b[0m\u001b[0m\n\u001b[0;32m    254\u001b[0m             raise NotImplementedError('Multilabel and multi-output'\n",
      "\u001b[1;32m~\\anaconda3\\lib\\site-packages\\sklearn\\utils\\multiclass.py\u001b[0m in \u001b[0;36mcheck_classification_targets\u001b[1;34m(y)\u001b[0m\n\u001b[0;32m    170\u001b[0m     if y_type not in ['binary', 'multiclass', 'multiclass-multioutput',\n\u001b[0;32m    171\u001b[0m                       'multilabel-indicator', 'multilabel-sequences']:\n\u001b[1;32m--> 172\u001b[1;33m         \u001b[1;32mraise\u001b[0m \u001b[0mValueError\u001b[0m\u001b[1;33m(\u001b[0m\u001b[1;34m\"Unknown label type: %r\"\u001b[0m \u001b[1;33m%\u001b[0m \u001b[0my_type\u001b[0m\u001b[1;33m)\u001b[0m\u001b[1;33m\u001b[0m\u001b[1;33m\u001b[0m\u001b[0m\n\u001b[0m\u001b[0;32m    173\u001b[0m \u001b[1;33m\u001b[0m\u001b[0m\n\u001b[0;32m    174\u001b[0m \u001b[1;33m\u001b[0m\u001b[0m\n",
      "\u001b[1;31mValueError\u001b[0m: Unknown label type: 'continuous'"
     ]
    }
   ],
   "source": [
    "vot_clf.fit(X3_train, y3_train)"
   ]
  },
  {
   "cell_type": "code",
   "execution_count": null,
   "metadata": {},
   "outputs": [],
   "source": [
    "y3_pred = vot_clf.predict(X3_test)\n",
    "accuracy_score(y3_test, y3_pred)"
   ]
  },
  {
   "cell_type": "code",
   "execution_count": null,
   "metadata": {},
   "outputs": [],
   "source": []
  },
  {
   "cell_type": "code",
   "execution_count": null,
   "metadata": {},
   "outputs": [],
   "source": []
  },
  {
   "cell_type": "code",
   "execution_count": null,
   "metadata": {},
   "outputs": [],
   "source": []
  },
  {
   "cell_type": "code",
   "execution_count": null,
   "metadata": {},
   "outputs": [],
   "source": []
  },
  {
   "cell_type": "code",
   "execution_count": null,
   "metadata": {},
   "outputs": [],
   "source": []
  },
  {
   "cell_type": "code",
   "execution_count": null,
   "metadata": {},
   "outputs": [],
   "source": [
    "from sklearn.ensemble import RandomForestClassifier\n",
    "clf = RandomForestClassifier(n_estimators=300, random_state = 1,n_jobs=-1)\n",
    "model_res = clf.fit(X_train, training_scores_encoded)\n",
    "y_pred2 = model_res.predict(X_test)\n",
    "y_pred2_prob = model_res.predict_proba(X_test)\n",
    "lr_probs = y_pred2_prob[:,1]\n",
    "ac = accuracy_score(training_scores_encoded2, y_pred)\n",
    "\n",
    "f1 = f1_score(y_test, y_pred, average='weighted')\n",
    "cm = confusion_matrix(y_test, y_pred)\n",
    "\n",
    "print('Random Forest: Accuracy=%.3f' % (ac))\n",
    "\n",
    "print('Random Forest: f1-score=%.3f' % (f1))"
   ]
  },
  {
   "cell_type": "code",
   "execution_count": null,
   "metadata": {},
   "outputs": [],
   "source": []
  }
 ],
 "metadata": {
  "kernelspec": {
   "display_name": "Python 3",
   "language": "python",
   "name": "python3"
  },
  "language_info": {
   "codemirror_mode": {
    "name": "ipython",
    "version": 3
   },
   "file_extension": ".py",
   "mimetype": "text/x-python",
   "name": "python",
   "nbconvert_exporter": "python",
   "pygments_lexer": "ipython3",
   "version": "3.8.5"
  },
  "toc": {
   "base_numbering": 1,
   "nav_menu": {},
   "number_sections": false,
   "sideBar": true,
   "skip_h1_title": true,
   "title_cell": "Table of Contents",
   "title_sidebar": "Contents",
   "toc_cell": false,
   "toc_position": {},
   "toc_section_display": true,
   "toc_window_display": false
  }
 },
 "nbformat": 4,
 "nbformat_minor": 4
}
